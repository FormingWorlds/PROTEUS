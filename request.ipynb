{
 "cells": [
  {
   "cell_type": "code",
   "execution_count": 5,
   "metadata": {},
   "outputs": [],
   "source": [
    "import requests\n",
    "import json"
   ]
  },
  {
   "cell_type": "code",
   "execution_count": 6,
   "metadata": {},
   "outputs": [
    {
     "data": {
      "text/plain": [
       "<Response [200]>"
      ]
     },
     "execution_count": 6,
     "metadata": {},
     "output_type": "execute_result"
    }
   ],
   "source": [
    "url = \"https://api.osf.io/v2/nodes/vehxg/files/osfstorage/\"\n",
    "x = requests.get(url)\n",
    "x"
   ]
  },
  {
   "cell_type": "code",
   "execution_count": null,
   "metadata": {},
   "outputs": [
    {
     "data": {
      "text/plain": [
       "dict_keys(['data', 'links', 'meta'])"
      ]
     },
     "execution_count": 12,
     "metadata": {},
     "output_type": "execute_result"
    }
   ],
   "source": [
    "data = json.loads(x.content.decode('utf8').replace(\"'\", '\"'))"
   ]
  },
  {
   "cell_type": "code",
   "execution_count": 40,
   "metadata": {},
   "outputs": [],
   "source": [
    "def get_children(dic):\n",
    "    return dic[\"data\"]\n",
    "\n",
    "def only_files(dic):\n",
    "    for d in dic:\n",
    "        print(d)\n",
    "        if d[\"attributes\"][\"kind\"] != \"file\":\n",
    "            return False\n",
    "    return True\n",
    "\n",
    "def tree(dic):\n",
    "    out = {}\n",
    "    return out"
   ]
  },
  {
   "cell_type": "code",
   "execution_count": 41,
   "metadata": {},
   "outputs": [
    {
     "name": "stdout",
     "output_type": "stream",
     "text": [
      "{'id': '663dec5fe8eec5450c6bebd0', 'type': 'files', 'attributes': {'guid': None, 'checkout': None, 'name': 'Mallard', 'kind': 'folder', 'path': '/663dec5fe8eec5450c6bebd0/', 'size': None, 'provider': 'osfstorage', 'materialized_path': '/Mallard/', 'last_touched': None, 'date_modified': None, 'date_created': None, 'extra': {'hashes': {'md5': None, 'sha256': None}}, 'tags': [], 'current_user_can_comment': False, 'current_version': 1, 'show_as_unviewed': False}, 'relationships': {'parent_folder': {'links': {'related': {'href': 'https://api.osf.io/v2/files/663ca8906f6b4e0b0ed90b3f/', 'meta': {}}}, 'data': {'id': '663ca8906f6b4e0b0ed90b3f', 'type': 'files'}}, 'files': {'links': {'related': {'href': 'https://api.osf.io/v2/nodes/vehxg/files/osfstorage/663dec5fe8eec5450c6bebd0/', 'meta': {}}}}, 'node': {'links': {'related': {'href': 'https://api.osf.io/v2/nodes/vehxg/', 'meta': {}}}, 'data': {'id': 'vehxg', 'type': 'nodes'}}, 'target': {'links': {'related': {'href': 'https://api.osf.io/v2/nodes/vehxg/', 'meta': {'type': 'nodes'}}}, 'data': {'type': 'nodes', 'id': 'vehxg'}}, 'cedar_metadata_records': {'links': {'related': {'href': 'https://api.osf.io/v2/files/663dec5fe8eec5450c6bebd0/cedar_metadata_records/', 'meta': {}}}}}, 'links': {'info': 'https://api.osf.io/v2/files/663dec5fe8eec5450c6bebd0/', 'move': 'https://files.de-1.osf.io/v1/resources/vehxg/providers/osfstorage/663dec5fe8eec5450c6bebd0/', 'upload': 'https://files.de-1.osf.io/v1/resources/vehxg/providers/osfstorage/663dec5fe8eec5450c6bebd0/', 'delete': 'https://files.de-1.osf.io/v1/resources/vehxg/providers/osfstorage/663dec5fe8eec5450c6bebd0/', 'new_folder': 'https://files.de-1.osf.io/v1/resources/vehxg/providers/osfstorage/663dec5fe8eec5450c6bebd0/?kind=folder', 'self': 'https://api.osf.io/v2/files/663dec5fe8eec5450c6bebd0/'}}\n"
     ]
    },
    {
     "data": {
      "text/plain": [
       "False"
      ]
     },
     "execution_count": 41,
     "metadata": {},
     "output_type": "execute_result"
    }
   ],
   "source": [
    "chi = get_children(data)\n",
    "only_files(chi)"
   ]
  }
 ],
 "metadata": {
  "kernelspec": {
   "display_name": "py313",
   "language": "python",
   "name": "python3"
  },
  "language_info": {
   "codemirror_mode": {
    "name": "ipython",
    "version": 3
   },
   "file_extension": ".py",
   "mimetype": "text/x-python",
   "name": "python",
   "nbconvert_exporter": "python",
   "pygments_lexer": "ipython3",
   "version": "3.13.0"
  }
 },
 "nbformat": 4,
 "nbformat_minor": 2
}
