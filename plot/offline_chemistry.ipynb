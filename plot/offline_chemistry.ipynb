{
 "cells": [
  {
   "attachments": {},
   "cell_type": "markdown",
   "metadata": {},
   "source": [
    "## Code to plot offline chemistry"
   ]
  },
  {
   "cell_type": "code",
   "execution_count": 124,
   "metadata": {},
   "outputs": [],
   "source": [
    "import matplotlib \n",
    "import matplotlib.pyplot as plt \n",
    "from mpl_toolkits.axes_grid1 import make_axes_locatable\n",
    "# plt.ioff()\n",
    "\n",
    "import numpy as np \n",
    "import pickle as pkl \n",
    "import glob, json\n",
    "\n",
    "dir_offline = \"/home/n/nichollsh/PROTEUS/output/\"\n",
    "\n",
    "species_cmap = plt.get_cmap('nipy_spectral')\n",
    "heat_cmap    = plt.get_cmap('gnuplot2_r')\n",
    "\n",
    "mx_clip_min = 1e-30\n",
    "mx_clip_max = 1.0"
   ]
  },
  {
   "cell_type": "code",
   "execution_count": 96,
   "metadata": {},
   "outputs": [],
   "source": [
    "# Function to read PT profile and VULCAN output file and AEOLUS mixing ratios\n",
    "def read_year(year_int):\n",
    "\n",
    "    year_data = {}  # Dictionary of mixing ratios, pressure, temperature\n",
    "\n",
    "    # Read VULCAN output file\n",
    "    with open(\"results/%d/output.vul\" % year_int, \"rb\") as handle:\n",
    "        vul_data = pkl.load(handle)\n",
    "\n",
    "\n",
    "    # Save year\n",
    "    year_data[\"year\"] = int(year_int)\n",
    "\n",
    "    # Parse mixing ratios\n",
    "    vul_var = vul_data['variable']\n",
    "    for si,sp in enumerate(vul_var['species']):\n",
    "        year_data[\"mx_\"+sp] = np.clip(np.array(vul_var['ymix'])[:,si],mx_clip_min,mx_clip_max)\n",
    "\n",
    "    # Parse PT profile\n",
    "    vul_atm = vul_data['atm']\n",
    "    year_data[\"pressure\"] =     np.array(vul_atm[\"pco\"]) / 1e6  # convert to bar\n",
    "    year_data[\"temperature\"] =  np.array(vul_atm[\"Tco\"])\n",
    "\n",
    "    # Read AEOLUS mixing ratios which were used to initialise VULCAN\n",
    "    vol_data_str = None\n",
    "    with open(\"results/%d/vulcan_cfg.py\" % year_int, \"r\") as f:\n",
    "        lines = f.read().splitlines()\n",
    "        for ln in lines:\n",
    "            if \"const_mix\" in ln:\n",
    "                vol_data_str = ln.split(\"=\")[1].replace(\"'\",'\"')\n",
    "\n",
    "    if vol_data_str == None:\n",
    "        raise Exception(\"Could not parse vulcan cfg file!\")\n",
    "    \n",
    "    vol_data = json.loads(vol_data_str)\n",
    "    for vol in vol_data:\n",
    "        ae_mx = float(vol_data[vol])\n",
    "        if ae_mx > 1e-12:\n",
    "            year_data[\"ae_\"+vol] = ae_mx\n",
    "\n",
    "    return year_data\n"
   ]
  },
  {
   "cell_type": "code",
   "execution_count": 97,
   "metadata": {},
   "outputs": [],
   "source": [
    "# Plot mixing ratios and PT profile for a given year\n",
    "def plot_year(year_dict: dict, species: list):\n",
    "    lw = 2\n",
    "\n",
    "    fig, (ax0,ax1) = plt.subplots(1,2,sharey=True,figsize=(8,4))\n",
    "\n",
    "    # Temperature profile\n",
    "    ax0.set_title(\"Time = %g kyr\" % (year_dict[\"year\"]/1.e3))\n",
    "    ax0.set_ylabel(\"Pressure [bar]\")\n",
    "    ax0.invert_yaxis()\n",
    "    ax0.set_yscale(\"log\")\n",
    "    ax0.set_xlabel(\"Temperature [K]\")\n",
    "   \n",
    "    ax0.plot(year_dict[\"temperature\"],year_dict[\"pressure\"],color='black',lw=lw)\n",
    "\n",
    "    # Mixing ratios\n",
    "    ax1.set_xlabel(\"Mixing ratio\")\n",
    "    ax1.set_xscale(\"log\")\n",
    "\n",
    "\n",
    "    min_mix = 5e-1\n",
    "    for i,s in enumerate(species):\n",
    "\n",
    "        color = species_cmap(float(i+1)/len(species))\n",
    "\n",
    "        # VULCAN result\n",
    "        key = str(\"mx_\"+s)\n",
    "        if key in year_dict.keys():\n",
    "            ax1.plot(year_dict[key],year_dict[\"pressure\"],lw=lw+0.4,color='black')\n",
    "            ax1.plot(year_dict[key],year_dict[\"pressure\"],label=s,lw=lw,color=color)\n",
    "            min_mix = min(min_mix,np.amin(year_dict[key]))\n",
    "            \n",
    "        # AEOLUS result\n",
    "        key = str(\"ae_\"+s)\n",
    "        if key in year_dict.keys():\n",
    "            ax1.plot(np.ones((len(year_dict[\"pressure\"]))) * year_dict[key],year_dict[\"pressure\"],linestyle='--',lw=lw*0.5,color=color)\n",
    "            \n",
    "    ax1.set_xlim([min_mix,1])\n",
    "    ax1.legend(loc=\"lower left\")\n",
    "\n",
    "    fig.tight_layout()\n",
    "    fig.savefig(\"plots/year_%d.pdf\"%year_dict[\"year\"])\n",
    "    plt.close(fig)\n",
    "    "
   ]
  },
  {
   "cell_type": "code",
   "execution_count": 120,
   "metadata": {},
   "outputs": [],
   "source": [
    "# Plot time-evolution of PT profile and a single species for all years\n",
    "def plot_species(yrs, sp: str, tmin=-1.0, tmax=-1.0):\n",
    "\n",
    "    lw = 2\n",
    "    alpha = 0.7\n",
    "\n",
    "    fig, (ax0,ax1) = plt.subplots(1,2,sharey=True,figsize=(8,4))\n",
    "\n",
    "    ax0.set_ylabel(\"Pressure [bar]\")\n",
    "    ax0.invert_yaxis()\n",
    "    ax0.set_yscale(\"log\")\n",
    "    ax0.set_xlabel(\"Temperature [K]\")\n",
    "    ax0.set_title(\"Evolution of $T(p)$\")\n",
    "\n",
    "    ax1.set_title(\"Evolution of \"+sp)\n",
    "    ax1.set_xlabel(\"Mixing ratio\")\n",
    "    ax1.set_xscale(\"log\")\n",
    "\n",
    "    divider = make_axes_locatable(ax1)\n",
    "    cax = divider.append_axes('right', size='5%', pad=0.05)\n",
    "\n",
    "    if (tmin > 0):\n",
    "        cb_vmin = tmin\n",
    "    else:\n",
    "        cb_vmin = max(yrs[0][\"year\"],1.0)\n",
    "        \n",
    "    \n",
    "    if (tmax > 0):\n",
    "        cb_vmax = tmax\n",
    "    else:\n",
    "        cb_vmax = yrs[-1][\"year\"]\n",
    "        \n",
    "\n",
    "    norm = matplotlib.colors.LogNorm(vmin=cb_vmin, vmax=cb_vmax)\n",
    "    sm = plt.cm.ScalarMappable(cmap=heat_cmap, norm=norm)\n",
    "    sm.set_array([])\n",
    "    cbar = fig.colorbar(sm, cax=cax, orientation='vertical')  #, ticks=np.linspace(0,2,N), boundaries=np.arange(-0.05,2.1,.1))\n",
    "    cbar.set_label(\"Time [yr]\") \n",
    "    \n",
    "    min_mix = 5e-1\n",
    "    \n",
    "    for i, yd in enumerate(yrs):\n",
    "\n",
    "        if (tmin > -1) and (yd[\"year\"] < tmin):\n",
    "            continue \n",
    "        \n",
    "        if (tmax > -1) and (yd[\"year\"] > tmax):\n",
    "            continue \n",
    "\n",
    "        color = sm.to_rgba(yd[\"year\"])\n",
    "\n",
    "        p = yd[\"pressure\"]\n",
    "\n",
    "        # Temperature profile\n",
    "        ax0.plot(yd[\"temperature\"],p,color=color,lw=lw,alpha=alpha,label=\"%1.2e\"%yd[\"year\"])\n",
    "\n",
    "        # Mixing ratios\n",
    "        key = str(\"mx_\"+sp)\n",
    "        ax1.plot(yd[key],p,label=sp,color=color,lw=lw,alpha=alpha)\n",
    "\n",
    "        min_mix = min(min_mix,np.amin(yd[key]))\n",
    "\n",
    "        key = str(\"ae_\"+sp)\n",
    "        if key in yd.keys():\n",
    "            ax1.plot(np.ones((len(p),)) * yd[key],p,linestyle='--',lw=lw*0.5,color=color)\n",
    "            \n",
    "    ax1.set_xlim([min_mix,1])\n",
    "\n",
    "    fig.tight_layout()\n",
    "    fig.savefig(\"plots/species_%s.pdf\"%sp)\n",
    "    plt.close(fig)\n",
    "    "
   ]
  },
  {
   "cell_type": "code",
   "execution_count": 130,
   "metadata": {},
   "outputs": [],
   "source": [
    "# Plot of evolution of mean mixing ratios over time\n",
    "def plot_evolution(yrs, species: list):\n",
    "\n",
    "    lw = 2\n",
    "\n",
    "    fig, ax = plt.subplots(1,1,figsize=(8,4))\n",
    "\n",
    "    ax.set_ylabel(\"Mean mixing ratio\")\n",
    "    ax.set_yscale(\"log\")\n",
    "    ax.set_xlabel(\"Time\")\n",
    "    ax.set_title(\"Evolution of mean mixing ratio over time\")\n",
    "    ax.set_xlabel(\"Time [yr]\")\n",
    "    ax.set_xscale(\"log\")\n",
    "\n",
    "    for i,sp in enumerate(species):\n",
    "        color = species_cmap(float(i+1)/len(species))\n",
    "\n",
    "        times =     []\n",
    "        mx_vul =    []\n",
    "        mx_aeo =    []\n",
    "\n",
    "        for yd in yrs:\n",
    "            times.append(yd[\"year\"])\n",
    "\n",
    "            clean_mx = np.nan_to_num(yd[\"mx_\"+sp])\n",
    "            mean_mx = np.mean(clean_mx)\n",
    "            mx_vul.append(float(mean_mx))\n",
    "\n",
    "        ax.plot(times,mx_vul,color='black',lw=lw+0.4)\n",
    "        ax.plot(times,mx_vul,color=color,label=sp,lw=lw)\n",
    "\n",
    "        if str(\"ae_\"+sp) in yrs[0].keys():\n",
    "            for yd in yrs:\n",
    "                clean_mx = np.nan_to_num(yd[\"ae_\"+sp])\n",
    "                mean_mx = np.mean(clean_mx)\n",
    "                mx_aeo.append(float(mean_mx))\n",
    "\n",
    "            ax.plot(times,mx_aeo,color=color,linestyle='--',lw=lw)\n",
    "\n",
    "\n",
    "    ax.legend(loc=\"lower left\",ncol=6)\n",
    "    ax.set_ylim([1e-20,1.5])\n",
    "\n",
    "    ax.set_xlim([max(times[0],1.0),times[-1]*1.2])\n",
    "\n",
    "    ax.axvline(x=times[-1],color='black',lw=0.7)\n",
    "\n",
    "    fig.tight_layout()\n",
    "    fig.savefig(\"plots/evolution.pdf\")\n",
    "    plt.close(fig)\n",
    "    \n",
    "    "
   ]
  },
  {
   "attachments": {},
   "cell_type": "markdown",
   "metadata": {},
   "source": [
    "### Do it"
   ]
  },
  {
   "cell_type": "code",
   "execution_count": 100,
   "metadata": {},
   "outputs": [
    {
     "name": "stdout",
     "output_type": "stream",
     "text": [
      "[0, 1, 2, 3, 6, 10, 28, 40, 64, 100, 150, 250, 450, 700, 1000, 1619, 2703, 4453, 7125, 11234, 17727, 28935, 45734]\n",
      "dict_keys(['year', 'mx_OH', 'mx_H2', 'mx_H2O', 'mx_H', 'mx_O', 'mx_CH', 'mx_C', 'mx_CH2', 'mx_CH3', 'mx_CH4', 'mx_C2', 'mx_C2H2', 'mx_C2H', 'mx_C2H3', 'mx_C2H4', 'mx_C2H5', 'mx_C2H6', 'mx_CO', 'mx_CO2', 'mx_CH2OH', 'mx_H2CO', 'mx_HCO', 'mx_CH3O', 'mx_CH3OH', 'mx_CH3CO', 'mx_O2', 'mx_H2CCO', 'mx_HCCO', 'mx_N', 'mx_NH', 'mx_CN', 'mx_HCN', 'mx_NO', 'mx_NH2', 'mx_N2', 'mx_NH3', 'mx_HO2', 'mx_N2H2', 'mx_N2H', 'mx_N2H3', 'mx_N2H4', 'mx_HNO', 'mx_H2CN', 'mx_HNCO', 'mx_NO2', 'mx_N2O', 'mx_C4H2', 'mx_CH2NH2', 'mx_CH2NH', 'mx_CH3NH2', 'mx_CH3CHO', 'mx_C3H4', 'mx_HNO2', 'mx_NCO', 'mx_O3', 'mx_H2O2', 'mx_NO3', 'mx_HC3N', 'mx_CH3CN', 'mx_CH2CN', 'mx_C2H3CN', 'mx_C3H3', 'mx_C3H2', 'mx_C4H3', 'mx_C4H5', 'mx_C6H6', 'mx_CH2_1', 'mx_HNO3', 'mx_N2O5', 'mx_C6H5', 'mx_O_1', 'mx_N_2D', 'mx_He', 'mx_CH3O2', 'pressure', 'temperature', 'ae_H2O', 'ae_CO2', 'ae_H2', 'ae_N2', 'ae_CH4', 'ae_O2', 'ae_CO', 'ae_He', 'ae_NH3'])\n"
     ]
    }
   ],
   "source": [
    "ls = glob.glob(\"results/*/output.vul\")\n",
    "years = [int(f.split(\"/\")[-2]) for f in ls]\n",
    "years_data = [read_year(y) for y in years]\n",
    "print(years)\n",
    "print(years_data[0].keys())\n",
    "\n",
    "if len(years) == 0:\n",
    "    raise Exception('No VULCAN output files found')"
   ]
  },
  {
   "cell_type": "code",
   "execution_count": 101,
   "metadata": {},
   "outputs": [],
   "source": [
    "# Species to plot\n",
    "species = [\"H2\", \"H2O\", \"H\", \"OH\", \"CO2\", \"CO\", \"CH4\",\"HCN\", \"NH3\", \"N2\", \"NO\"]"
   ]
  },
  {
   "cell_type": "code",
   "execution_count": 131,
   "metadata": {},
   "outputs": [
    {
     "name": "stdout",
     "output_type": "stream",
     "text": [
      "Plotting evolution\n"
     ]
    }
   ],
   "source": [
    "# Plot evolution of mixing ratios\n",
    "print(\"Plotting evolution\")\n",
    "plot_evolution(years_data, species)"
   ]
  },
  {
   "cell_type": "code",
   "execution_count": 103,
   "metadata": {},
   "outputs": [
    {
     "name": "stdout",
     "output_type": "stream",
     "text": [
      "Plotting PT and MX\n"
     ]
    }
   ],
   "source": [
    "# Make plots for each year\n",
    "print(\"Plotting PT and MX\")\n",
    "for yd in years_data:\n",
    "    plot_year(yd, species=species)"
   ]
  },
  {
   "cell_type": "code",
   "execution_count": 132,
   "metadata": {},
   "outputs": [
    {
     "name": "stdout",
     "output_type": "stream",
     "text": [
      "Plotting species\n"
     ]
    }
   ],
   "source": [
    "# Make species plots\n",
    "print(\"Plotting species\")\n",
    "for s in species:\n",
    "    plot_species(years_data,s, tmin=1e1)\n"
   ]
  },
  {
   "cell_type": "code",
   "execution_count": null,
   "metadata": {},
   "outputs": [
    {
     "name": "stdout",
     "output_type": "stream",
     "text": [
      "Done\n"
     ]
    }
   ],
   "source": [
    "print(\"Done\")"
   ]
  }
 ],
 "metadata": {
  "kernelspec": {
   "display_name": "proteus",
   "language": "python",
   "name": "python3"
  },
  "language_info": {
   "codemirror_mode": {
    "name": "ipython",
    "version": 3
   },
   "file_extension": ".py",
   "mimetype": "text/x-python",
   "name": "python",
   "nbconvert_exporter": "python",
   "pygments_lexer": "ipython3",
   "version": "3.10.9"
  },
  "orig_nbformat": 4
 },
 "nbformat": 4,
 "nbformat_minor": 2
}
