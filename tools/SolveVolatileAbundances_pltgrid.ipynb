{
 "cells": [
  {
   "cell_type": "code",
   "execution_count": 1,
   "metadata": {},
   "outputs": [],
   "source": [
    "# %config InlineBackend.figure_format='retina'\n",
    "\n",
    "# Import libraries\n",
    "import numpy as np\n",
    "import pandas as pd\n",
    "import matplotlib as mpl\n",
    "import matplotlib.pyplot as plt\n",
    "import scipy.interpolate as interp\n",
    "from mpl_toolkits.axes_grid1 import make_axes_locatable\n",
    "\n",
    "cmap = mpl.colormaps['viridis_r']\n"
   ]
  },
  {
   "cell_type": "code",
   "execution_count": 6,
   "metadata": {},
   "outputs": [
    {
     "name": "stdout",
     "output_type": "stream",
     "text": [
      "Number of rows: 1600\n"
     ]
    }
   ],
   "source": [
    "df = pd.read_csv(\"../equilibrium_atmosphere_GR.csv\",sep=',',header=0)\n",
    "\n",
    "C_to_H = (12.0/1.0) * 10**(8.43 - 12.0)\n",
    "\n",
    "# Parse data...\n",
    "result = {}\n",
    "#    Results\n",
    "result[\"H2O_bar\"]           = df['H2O'].values\n",
    "result[\"CO2_bar\"]           = df['CO2'].values\n",
    "result[\"N2_bar\"]            = df['N2'].values\n",
    "result[\"H2_bar\"]            = df['H2'].values\n",
    "result[\"CO_bar\"]            = df['CO'].values\n",
    "result[\"CH4_bar\"]           = df['CH4'].values\n",
    "result[\"tot_bar\"]           = df['tot'].values\n",
    "#    Parameters\n",
    "result[\"H_ppm\"]             = df['Hydrogen_ppm'].values\n",
    "result[\"N_ppm\"]             = df['Nitrogen_ppm'].values\n",
    "result[\"CH_ratio\"]          = df['CH_ratio'].values / C_to_H\n",
    "result[\"Mantle_kg\"]         = df['mantle_mass'].values\n",
    "result[\"fO2-IW\"]            = df['fO2_shift'].values\n",
    "result[\"Tsurf\"]             = df['temperature'].values\n",
    "planet_mass                 = df['planetary_mass'].values[0]\n",
    "planet_radius               = df['planetary_radius'].values[0]\n",
    "\n",
    "#    Derived parameters\n",
    "result[\"Mantle_pl\"]         = result[\"Mantle_kg\"]/df['planetary_mass'].values[0]\n",
    "\n",
    "num_rows        = len(df['Hydrogen_ppm'].values)\n",
    "print(\"Number of rows:\",num_rows)\n",
    "\n",
    "labels = {\n",
    "    \"H_ppm\"     :\"Hydrogen mass fraction [ppmw]\",\n",
    "    \"N_ppm\"     :\"Nitrogen mass fraction [ppmw]\",\n",
    "    \"tot_bar\"   :\"Total pressure [bar]\",\n",
    "    \"H2O_bar\"   :\"H2O partial pressure [bar]\",\n",
    "    \"CO2_bar\"   :\"CO2 partial pressure [bar]\",\n",
    "    \"N2_bar\"    :\"N2 partial pressure [bar]\",\n",
    "    \"H2_bar\"    :\"H2 partial pressure [bar]\",\n",
    "    \"CO_bar\"    :\"CO partial pressure [bar]\",\n",
    "    \"CH4_bar\"   :\"CH4 partial pressure [bar]\",\n",
    "    \"CH_ratio\"  :\"C/H mass ratio\",\n",
    "    \"Mantle_pl\" :\"Mantle mass / Planet mass\",\n",
    "    \"Mantle_kg\" :\"Mantle mass [kg]\",\n",
    "    \"fO2-IW\"    :\"log fO2 relative to IW\",\n",
    "    \"Tsurf\"     :\"Temperature [K]\",\n",
    "}\n",
    "\n",
    "logvars = ['Mantle_kg', 'Mantle_pl', 'CH_ratio', 'H_ppm', 'tot_bar', 'CO_bar', 'H2O_bar', 'CH4_bar', 'N2_bar']\n",
    "\n"
   ]
  },
  {
   "cell_type": "code",
   "execution_count": 29,
   "metadata": {},
   "outputs": [],
   "source": [
    "def make_plot(x,y,z,control):\n",
    "    x_plt = []\n",
    "    y_plt = []\n",
    "    z_plt = []\n",
    "\n",
    "    for i in range(num_rows):\n",
    "        \n",
    "        # Check if case matches control variables\n",
    "        skiprow = False\n",
    "        for k in control.keys():\n",
    "            if (k == x) or (k == y) or (k == z):\n",
    "                raise Exception(\"(In)dependent variables cannot also be control variables\")\n",
    "            \n",
    "            if k in result.keys():\n",
    "                if abs(result[k][i] - control[k]) < 1.0e-9 :\n",
    "                    skiprow = True\n",
    "                    break\n",
    "        \n",
    "        # Allowed case\n",
    "        if not skiprow:\n",
    "            x_plt.append(result[x][i])\n",
    "            y_plt.append(result[y][i])\n",
    "            z_plt.append(result[z][i])\n",
    "\n",
    "    fig,ax = plt.subplots(figsize=(5,4.5))\n",
    "\n",
    "    if x in logvars:\n",
    "        ax.set_xscale(\"log\")\n",
    "    if y in logvars:\n",
    "        ax.set_yscale(\"log\")\n",
    "\n",
    "    logz = bool(z in logvars)\n",
    "\n",
    "    divider = make_axes_locatable(ax)\n",
    "    cax = divider.append_axes('right', size='5%', pad=0.05)\n",
    "    vmin = np.amin(z_plt)\n",
    "    vmax = np.amax(z_plt)\n",
    "    if logz:\n",
    "        norm = mpl.colors.LogNorm(vmin=vmin, vmax=vmax)\n",
    "    else:\n",
    "        norm = mpl.colors.Normalize(vmin=vmin, vmax=vmax)\n",
    "    sm = plt.cm.ScalarMappable(cmap=cmap, norm=norm)\n",
    "    sm.set_array([])\n",
    "\n",
    "    im = ax.scatter(x_plt,y_plt,c=z_plt,s=250,alpha=0.9,edgecolors='none', marker='s',cmap=cmap, norm=norm)\n",
    "\n",
    "    cbar = fig.colorbar(sm, cax=cax, orientation='vertical') \n",
    "    cbar.ax.set_ylabel(labels[z])\n",
    "\n",
    "    if (not logz) and (vmax > 1.0):\n",
    "        ticks_new = np.linspace(vmin, vmax, 5)\n",
    "        cbar.ax.set_yticks([round(tv,1) for tv in ticks_new])\n",
    "\n",
    "    ax.set_xlabel(labels[x])\n",
    "    ax.set_ylabel(labels[y])\n",
    "\n",
    "    plt.show()\n",
    "    # fig.savefig(\"gr.png\",dpi=210,bbox_inches='tight')"
   ]
  },
  {
   "cell_type": "code",
   "execution_count": 38,
   "metadata": {},
   "outputs": [
    {
     "data": {
      "image/png": "[encoded data removed]",
      "text/plain": [
       "<Figure size 500x450 with 2 Axes>"
      ]
     },
     "metadata": {},
     "output_type": "display_data"
    }
   ],
   "source": [
    "# Independent variables...\n",
    "x = \"H_ppm\"\n",
    "y = \"fO2-IW\"\n",
    "\n",
    "# Dependent variables...\n",
    "z = \"N2_bar\"\n",
    "\n",
    "# Control variables...\n",
    "control = {\n",
    "    # \"H_ppm\"      : 1.0,\n",
    "    \"CH_ratio\"   : 0.1,\n",
    "    # \"fO2-IW\"     : -5.0,\n",
    "    \"Mantle_pl\"  : 0.001,\n",
    "    \"Tsurf\"      : 1500.0,\n",
    "}\n",
    "\n",
    "make_plot(x,y,z,control)\n"
   ]
  }
 ],
 "metadata": {
  "kernelspec": {
   "display_name": "base",
   "language": "python",
   "name": "python3"
  },
  "language_info": {
   "codemirror_mode": {
    "name": "ipython",
    "version": 3
   },
   "file_extension": ".py",
   "mimetype": "text/x-python",
   "name": "python",
   "nbconvert_exporter": "python",
   "pygments_lexer": "ipython3",
   "version": "3.9.15"
  },
  "orig_nbformat": 4
 },
 "nbformat": 4,
 "nbformat_minor": 2
}
