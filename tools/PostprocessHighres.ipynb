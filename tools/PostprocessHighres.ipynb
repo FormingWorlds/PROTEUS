{
 "cells": [
  {
   "cell_type": "markdown",
   "metadata": {},
   "source": [
    "## Post-process PROTEUS output with high resolution radiative transfer\n",
    "Note that this is a Julia notebook, not a Python one."
   ]
  },
  {
   "cell_type": "code",
   "execution_count": 1,
   "metadata": {},
   "outputs": [
    {
     "name": "stderr",
     "output_type": "stream",
     "text": [
      "\u001b[32m\u001b[1m  Activating\u001b[22m\u001b[39m project at `/dataserver/users/formingworlds/nicholls/PROTEUS/AGNI`\n"
     ]
    }
   ],
   "source": [
    "# Activate environment\n",
    "PROTEUS_DIR = abspath(joinpath(pwd(), \"../\"))\n",
    "ROOT_DIR = abspath( PROTEUS_DIR , \"AGNI/\")\n",
    "using Pkg\n",
    "Pkg.activate(ROOT_DIR)\n",
    "\n",
    "# Import system packages\n",
    "using Printf\n",
    "using Plots\n",
    "using LaTeXStrings\n",
    "using NCDatasets\n",
    "using Glob\n",
    "\n",
    "# Import AGNI\n",
    "using AGNI\n",
    "import AGNI.atmosphere as atmosphere\n",
    "import AGNI.energy as energy\n",
    "import AGNI.dump as dump\n",
    "import AGNI.plotting as plotting\n",
    "import AGNI.setpt as setpt\n"
   ]
  },
  {
   "cell_type": "code",
   "execution_count": 2,
   "metadata": {},
   "outputs": [
    {
     "data": {
      "text/plain": [
       "\"/dataserver/users/formingworlds/nicholls/PROTEUS/output/test\""
      ]
     },
     "metadata": {},
     "output_type": "display_data"
    }
   ],
   "source": [
    "# Set simulation output folder\n",
    "output_dir = joinpath(PROTEUS_DIR, \"output\", \"test\")"
   ]
  },
  {
   "cell_type": "code",
   "execution_count": 8,
   "metadata": {},
   "outputs": [
    {
     "name": "stdout",
     "output_type": "stream",
     "text": [
      "Found 50 files in output folder"
     ]
    }
   ],
   "source": [
    "# use same spectral file as simulation\n",
    "spectral_file = joinpath(output_dir, \"runtime.sf\")\n",
    "star_file = \"\"\n",
    "\n",
    "# use high resolution file\n",
    "spectral_file = joinpath(ENV[\"FWL_DATA\"], \"spectral_files/Honeyside/4096/Honeyside.sf\")\n",
    "star_file = joinpath(output_dir, \"data\", \"0.sflux\")\n",
    "\n",
    "if !ispath(spectral_file)\n",
    "    error(\"Cannot find spectral file $spectral_file\")\n",
    "end\n",
    "\n",
    "# read model output\n",
    "files = glob(\"*_atm.nc\", joinpath(output_dir , \"data\"))\n",
    "\n",
    "# drop files\n",
    "files = files[1:50]\n",
    "\n",
    "nfiles = length(files)\n",
    "@printf(\"Found %d files in output folder\", nfiles)"
   ]
  },
  {
   "cell_type": "code",
   "execution_count": 9,
   "metadata": {},
   "outputs": [
    {
     "name": "stdout",
     "output_type": "stream",
     "text": [
      "Setup atmos from /dataserver/users/formingworlds/nicholls/PROTEUS/output/test/data/0_atm.nc"
     ]
    },
    {
     "name": "stderr",
     "output_type": "stream",
     "text": [
      "┌ Info: Composition set by dict\n",
      "└ @ AGNI.atmosphere /dataserver/users/formingworlds/nicholls/PROTEUS/AGNI/src/atmosphere.jl:460\n",
      "┌ Info: Inserting stellar spectrum and Rayleigh coefficients\n",
      "└ @ AGNI.spectrum /dataserver/users/formingworlds/nicholls/PROTEUS/AGNI/src/spectrum.jl:201\n",
      "┌ Info: Allocated atmosphere with composition:\n",
      "└ @ AGNI.atmosphere /dataserver/users/formingworlds/nicholls/PROTEUS/AGNI/src/atmosphere.jl:1197\n",
      "┌ Info:       1 N2      3.05e-03 \n",
      "└ @ AGNI.atmosphere /dataserver/users/formingworlds/nicholls/PROTEUS/AGNI/src/atmosphere.jl:1215\n",
      "┌ Info:       2 CO      8.08e-01 \n",
      "└ @ AGNI.atmosphere /dataserver/users/formingworlds/nicholls/PROTEUS/AGNI/src/atmosphere.jl:1215\n",
      "┌ Info:       3 CH4     1.21e-06 \n",
      "└ @ AGNI.atmosphere /dataserver/users/formingworlds/nicholls/PROTEUS/AGNI/src/atmosphere.jl:1215\n",
      "┌ Info:       4 S2      2.19e-07 (NO_OPACITY)\n",
      "└ @ AGNI.atmosphere /dataserver/users/formingworlds/nicholls/PROTEUS/AGNI/src/atmosphere.jl:1215\n",
      "┌ Info:       5 SO2     9.16e-06 \n",
      "└ @ AGNI.atmosphere /dataserver/users/formingworlds/nicholls/PROTEUS/AGNI/src/atmosphere.jl:1215\n",
      "┌ Info:       6 H2O     3.67e-02 \n",
      "└ @ AGNI.atmosphere /dataserver/users/formingworlds/nicholls/PROTEUS/AGNI/src/atmosphere.jl:1215\n",
      "┌ Info:       7 CO2     2.57e-02 \n",
      "└ @ AGNI.atmosphere /dataserver/users/formingworlds/nicholls/PROTEUS/AGNI/src/atmosphere.jl:1215\n",
      "┌ Info:       8 H2      1.27e-01 \n",
      "└ @ AGNI.atmosphere /dataserver/users/formingworlds/nicholls/PROTEUS/AGNI/src/atmosphere.jl:1215\n"
     ]
    }
   ],
   "source": [
    "# Setup initial atmos struct...\n",
    "fpath = files[1]\n",
    "@printf(\"Setup atmos from %s\", fpath)\n",
    "\n",
    "ds = Dataset(fpath,\"r\")\n",
    "\n",
    "# Get all of the information that we need\n",
    "nlev_c::Int = length(ds[\"p\"][:])\n",
    "\n",
    "#   temperature arrays\n",
    "input_tmpl::Array{Float64,1} = ds[\"tmpl\"][:]\n",
    "input_tmp::Array{Float64,1}  = ds[\"tmp\"][:]\n",
    "\n",
    "#   pressure arrays\n",
    "input_pl::Array{Float64,1} = ds[\"pl\"][:]\n",
    "input_p::Array{Float64,1}  = ds[\"p\"][:]\n",
    "\n",
    "#   gas names\n",
    "raw_gases::Array{Char,2} = ds[\"gases\"][:,:]\n",
    "num_gas::Int = size(raw_gases)[2]\n",
    "input_gases::Array{String,1} = []\n",
    "for i in 1:num_gas\n",
    "    push!(input_gases, strip(String(raw_gases[:,i])))\n",
    "end\n",
    "\n",
    "# gas VMRs\n",
    "raw_vmrs::Array{Float64, 2} = ds[\"x_gas\"][:,:]\n",
    "input_vmrs::Dict{String, Array{Float64,1}} = Dict()      # dict of Arrays\n",
    "input_vmrs_scalar::Dict{String, Float64} = Dict()        # dict of Floats (surface values)\n",
    "for i in 1:num_gas\n",
    "    g = input_gases[i]\n",
    "    input_vmrs[g]     = zeros(Float64, nlev_c)\n",
    "    input_vmrs[g][:] .= raw_vmrs[i, :]\n",
    "\n",
    "    input_vmrs_scalar[g] = input_vmrs[g][end]\n",
    "end\n",
    "\n",
    "# surface\n",
    "input_tsurf::Float64   = ds[\"tmp_surf\"][1]\n",
    "input_radius::Float64  = ds[\"planet_radius\"][1]\n",
    "input_gravity::Float64 = ds[\"surf_gravity\"][1]\n",
    "\n",
    "# stellar properties\n",
    "input_inst::Float64   = ds[\"instellation\"][1]\n",
    "input_s0fact::Float64 = ds[\"inst_factor\"][1]\n",
    "input_albedo::Float64 = ds[\"bond_albedo\"][1]\n",
    "input_zenith::Float64 = ds[\"zenith_angle\"][1]\n",
    "\n",
    "# flags\n",
    "input_flag_rayleigh::Bool  = Bool(ds[\"flag_rayleigh\"][1] == 'y')\n",
    "input_flag_thermo::Bool    = Bool(ds[\"thermo_funct\"][1] == 'y')\n",
    "input_flag_continuum::Bool = Bool(ds[\"flag_continuum\"][1] == 'y')\n",
    "\n",
    "# Close file\n",
    "close(ds);\n",
    "\n",
    "# Setup atmosphere\n",
    "atmos = atmosphere.Atmos_t()\n",
    "atmosphere.setup!(atmos, ROOT_DIR, output_dir,\n",
    "                        spectral_file,\n",
    "                        input_inst, input_s0fact, input_albedo, input_zenith,\n",
    "                        input_tsurf,\n",
    "                        input_gravity, input_radius,\n",
    "                        nlev_c, input_pl[end], input_pl[1],\n",
    "                        input_vmrs_scalar, \"\",\n",
    "                        flag_gcontinuum=input_flag_continuum,\n",
    "                        flag_rayleigh=input_flag_rayleigh,\n",
    "                        thermo_functions=input_flag_thermo,\n",
    "                        overlap_method=2\n",
    "                        )\n",
    "code = atmosphere.allocate!(atmos, star_file)\n",
    "if !code\n",
    "    error(\"Failed\")\n",
    "end"
   ]
  },
  {
   "cell_type": "code",
   "execution_count": 10,
   "metadata": {},
   "outputs": [
    {
     "data": {
      "text/plain": [
       "update_atmos_from_nc! (generic function with 1 method)"
      ]
     },
     "metadata": {},
     "output_type": "display_data"
    }
   ],
   "source": [
    "function update_atmos_from_nc!(atmos, fpath)\n",
    "\n",
    "    ds = Dataset(fpath,\"r\")\n",
    "    @printf(\"    updating from %s \\n\", fpath)\n",
    "\n",
    "    #   gas names\n",
    "    raw_gases::Array{Char,2} = ds[\"gases\"][:,:]\n",
    "    num_gas::Int = size(raw_gases)[2]\n",
    "    input_gases::Array{String,1} = []\n",
    "    for i in 1:num_gas\n",
    "        push!(input_gases, strip(String(raw_gases[:,i])))\n",
    "    end\n",
    "\n",
    "    # gas VMRs\n",
    "    raw_vmrs::Array{Float64, 2} = ds[\"x_gas\"][:,:]\n",
    "    input_vmrs::Dict{String, Array{Float64,1}} = Dict()      # dict of Arrays\n",
    "    input_vmrs_scalar::Dict{String, Float64} = Dict()        # dict of Floats (surface values)\n",
    "    for i in 1:num_gas\n",
    "        g = input_gases[i]\n",
    "        input_vmrs[g]     = zeros(Float64, nlev_c)\n",
    "        input_vmrs[g][:] .= raw_vmrs[i, :]\n",
    "\n",
    "        input_vmrs_scalar[g] = input_vmrs[g][end]\n",
    "    end\n",
    "\n",
    "\n",
    "    # Update the struct with new values\n",
    "    atmos.instellation =  ds[\"instellation\"][1]\n",
    "\n",
    "    atmos.tmp_surf = ds[\"tmp_surf\"][1]\n",
    "    atmos.tmp_magma = ds[\"tmagma\"][1]\n",
    "    atmos.tmpl[:] .= ds[\"tmpl\"][:]\n",
    "    atmos.tmp[:] .=  ds[\"tmp\"][:]\n",
    "\n",
    "    atmos.pl[:] .= ds[\"pl\"][:]\n",
    "    atmos.p[:] .=  ds[\"p\"][:]\n",
    "    atmos.p_boa = atmos.pl[end]\n",
    "\n",
    "    for g in input_gases\n",
    "        atmos.gas_vmr[g][:] .= input_vmrs[g]\n",
    "    end\n",
    "\n",
    "    atmosphere.calc_layer_props!(atmos)\n",
    "\n",
    "    # Close file\n",
    "    close(ds);\n",
    "\n",
    "end"
   ]
  },
  {
   "cell_type": "code",
   "execution_count": 11,
   "metadata": {},
   "outputs": [
    {
     "name": "stdout",
     "output_type": "stream",
     "text": [
      "  1 / 50 = 2.0% \n",
      "    updating from /dataserver/users/formingworlds/nicholls/PROTEUS/output/test/data/0_atm.nc \n",
      "  2 / 50 = 4.0% \n",
      "    updating from /dataserver/users/formingworlds/nicholls/PROTEUS/output/test/data/101579_atm.nc \n",
      "  3 / 50 = 6.0% \n",
      "    updating from /dataserver/users/formingworlds/nicholls/PROTEUS/output/test/data/1016656_atm.nc \n",
      "  4 / 50 = 8.0% \n",
      "    updating from /dataserver/users/formingworlds/nicholls/PROTEUS/output/test/data/1032959_atm.nc \n",
      "  5 / 50 = 10.0% \n",
      "    updating from /dataserver/users/formingworlds/nicholls/PROTEUS/output/test/data/10390_atm.nc \n",
      "  6 / 50 = 12.0% \n",
      "    updating from /dataserver/users/formingworlds/nicholls/PROTEUS/output/test/data/1050893_atm.nc \n",
      "  7 / 50 = 14.0% \n",
      "    updating from /dataserver/users/formingworlds/nicholls/PROTEUS/output/test/data/106454_atm.nc \n",
      "  8 / 50 = 16.0% \n",
      "    updating from /dataserver/users/formingworlds/nicholls/PROTEUS/output/test/data/1070621_atm.nc \n",
      "  9 / 50 = 18.0% \n",
      "    updating from /dataserver/users/formingworlds/nicholls/PROTEUS/output/test/data/1088377_atm.nc \n",
      " 10 / 50 = 20.0% \n",
      "    updating from /dataserver/users/formingworlds/nicholls/PROTEUS/output/test/data/11033_atm.nc \n",
      " 11 / 50 = 22.0% \n",
      "    updating from /dataserver/users/formingworlds/nicholls/PROTEUS/output/test/data/1104358_atm.nc \n",
      " 12 / 50 = 24.0% \n",
      "    updating from /dataserver/users/formingworlds/nicholls/PROTEUS/output/test/data/110842_atm.nc \n",
      " 13 / 50 = 26.0% \n",
      "    updating from /dataserver/users/formingworlds/nicholls/PROTEUS/output/test/data/1121938_atm.nc \n",
      " 14 / 50 = 28.0% \n",
      "    updating from /dataserver/users/formingworlds/nicholls/PROTEUS/output/test/data/1141276_atm.nc \n",
      " 15 / 50 = 30.0% \n",
      "    updating from /dataserver/users/formingworlds/nicholls/PROTEUS/output/test/data/114792_atm.nc \n",
      " 16 / 50 = 32.0% \n",
      "    updating from /dataserver/users/formingworlds/nicholls/PROTEUS/output/test/data/1162548_atm.nc \n",
      " 17 / 50 = 34.0% \n",
      "    updating from /dataserver/users/formingworlds/nicholls/PROTEUS/output/test/data/11741_atm.nc \n",
      " 18 / 50 = 36.0% \n",
      "    updating from /dataserver/users/formingworlds/nicholls/PROTEUS/output/test/data/1181693_atm.nc \n"
     ]
    }
   ],
   "source": [
    "atm_arr = atmosphere.Atmos_t[]\n",
    "\n",
    "# Loop over netcdfs and post-process them\n",
    "for (i,fpath) in enumerate(files)\n",
    "\n",
    "    # progress\n",
    "    @printf(\"%3d /%3d = %.1f%% \\n\", i, length(files), i*100.0/length(files))\n",
    "\n",
    "    # set new composition and structure\n",
    "    update_atmos_from_nc!(atmos, fpath)\n",
    "\n",
    "    # set fluxes to zero\n",
    "    energy.reset_fluxes!(atmos)\n",
    "\n",
    "    # do radtrans with this composition\n",
    "    energy.radtrans!(atmos, true)   # LW\n",
    "    energy.radtrans!(atmos, false)  # SW\n",
    "\n",
    "    # store result\n",
    "    push!(atm_arr, deepcopy(atmos))\n",
    "end"
   ]
  },
  {
   "cell_type": "code",
   "execution_count": null,
   "metadata": {},
   "outputs": [],
   "source": [
    "# write new output files\n",
    "for (i,fpath) in enumerate(files)\n",
    "    @printf(\"%3d /%3d = %.1f%% \\n\", i, length(files), i*100.0/length(files))\n",
    "\n",
    "    fpath = replace(fpath, \"_atm.nc\" => \"_ppr.nc\")\n",
    "    dump.write_ncdf(atm_arr[i], joinpath(output_dir, \"data\", fpath))\n",
    "end"
   ]
  }
 ],
 "metadata": {
  "kernelspec": {
   "display_name": "Julia 1.10.5",
   "language": "julia",
   "name": "julia-1.10"
  },
  "language_info": {
   "file_extension": ".jl",
   "mimetype": "application/julia",
   "name": "julia",
   "version": "1.10.5"
  }
 },
 "nbformat": 4,
 "nbformat_minor": 2
}
