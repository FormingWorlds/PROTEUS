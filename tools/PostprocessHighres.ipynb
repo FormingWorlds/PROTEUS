{
 "cells": [
  {
   "cell_type": "markdown",
   "metadata": {},
   "source": [
    "## Post-process PROTEUS output with high resolution radiative transfer\n",
    "Note that this is a Julia notebook, not a Python one."
   ]
  },
  {
   "cell_type": "code",
   "execution_count": 1,
   "metadata": {},
   "outputs": [
    {
     "name": "stderr",
     "output_type": "stream",
     "text": [
      "\u001b[32m\u001b[1m  Activating\u001b[22m\u001b[39m project at `/dataserver/users/formingworlds/nicholls/PROTEUS/AGNI`\n"
     ]
    }
   ],
   "source": [
    "# Activate environment\n",
    "PROTEUS_DIR = abspath(joinpath(pwd(), \"../\"))\n",
    "ROOT_DIR = abspath( PROTEUS_DIR , \"AGNI/\")\n",
    "using Pkg\n",
    "Pkg.activate(ROOT_DIR)\n",
    "\n",
    "# Import system packages\n",
    "using Printf\n",
    "using Plots\n",
    "using LaTeXStrings\n",
    "using NCDatasets\n",
    "using Glob\n",
    "\n",
    "# Import AGNI\n",
    "using AGNI\n",
    "import AGNI.atmosphere as atmosphere\n",
    "import AGNI.energy as energy\n",
    "import AGNI.dump as dump\n",
    "import AGNI.plotting as plotting\n",
    "import AGNI.setpt as setpt\n"
   ]
  },
  {
   "cell_type": "code",
   "execution_count": 2,
   "metadata": {},
   "outputs": [
    {
     "data": {
      "text/plain": [
       "\"/dataserver/users/formingworlds/nicholls/PROTEUS/output/test\""
      ]
     },
     "metadata": {},
     "output_type": "display_data"
    }
   ],
   "source": [
    "# Set simulation output folder\n",
    "output_dir = joinpath(PROTEUS_DIR, \"output\", \"test\")"
   ]
  },
  {
   "cell_type": "code",
   "execution_count": 3,
   "metadata": {},
   "outputs": [
    {
     "name": "stdout",
     "output_type": "stream",
     "text": [
      "Found 10 files in output folder"
     ]
    }
   ],
   "source": [
    "# use same spectral file as simulation\n",
    "spectral_file = joinpath(output_dir, \"runtime.sf\")\n",
    "star_file = \"\"\n",
    "\n",
    "# use high resolution file\n",
    "spectral_file = joinpath(ENV[\"FWL_DATA\"], \"spectral_files/Honeyside/4096/Honeyside.sf\")\n",
    "star_file = joinpath(output_dir, \"-1.sflux\")\n",
    "\n",
    "if !ispath(spectral_file)\n",
    "    error(\"Cannot find spectral file $spectral_file\")\n",
    "end\n",
    "\n",
    "# read model output\n",
    "files = glob(\"*_atm.nc\", joinpath(output_dir , \"data\"))\n",
    "\n",
    "# drop files\n",
    "files = files[1:10]\n",
    "\n",
    "nfiles = length(files)\n",
    "@printf(\"Found %d files in output folder\", nfiles)"
   ]
  },
  {
   "cell_type": "code",
   "execution_count": 4,
   "metadata": {},
   "outputs": [
    {
     "name": "stdout",
     "output_type": "stream",
     "text": [
      "Setup atmos from /dataserver/users/formingworlds/nicholls/PROTEUS/output/test/data/0_atm.nc"
     ]
    },
    {
     "name": "stderr",
     "output_type": "stream",
     "text": [
      "┌ Info: Composition set by dict\n",
      "└ @ AGNI.atmosphere /dataserver/users/formingworlds/nicholls/PROTEUS/AGNI/src/atmosphere.jl:460\n",
      "┌ Info: Inserting stellar spectrum and Rayleigh coefficients\n",
      "└ @ AGNI.spectrum /dataserver/users/formingworlds/nicholls/PROTEUS/AGNI/src/spectrum.jl:201\n",
      "┌ Info: Allocated atmosphere with composition:\n",
      "└ @ AGNI.atmosphere /dataserver/users/formingworlds/nicholls/PROTEUS/AGNI/src/atmosphere.jl:1197\n",
      "┌ Info:       1 N2      3.05e-03 \n",
      "└ @ AGNI.atmosphere /dataserver/users/formingworlds/nicholls/PROTEUS/AGNI/src/atmosphere.jl:1215\n",
      "┌ Info:       2 CO      8.08e-01 \n",
      "└ @ AGNI.atmosphere /dataserver/users/formingworlds/nicholls/PROTEUS/AGNI/src/atmosphere.jl:1215\n",
      "┌ Info:       3 CH4     1.21e-06 \n",
      "└ @ AGNI.atmosphere /dataserver/users/formingworlds/nicholls/PROTEUS/AGNI/src/atmosphere.jl:1215\n",
      "┌ Info:       4 S2      2.19e-07 (NO_OPACITY)\n",
      "└ @ AGNI.atmosphere /dataserver/users/formingworlds/nicholls/PROTEUS/AGNI/src/atmosphere.jl:1215\n",
      "┌ Info:       5 SO2     9.16e-06 \n",
      "└ @ AGNI.atmosphere /dataserver/users/formingworlds/nicholls/PROTEUS/AGNI/src/atmosphere.jl:1215\n",
      "┌ Info:       6 H2O     3.67e-02 \n",
      "└ @ AGNI.atmosphere /dataserver/users/formingworlds/nicholls/PROTEUS/AGNI/src/atmosphere.jl:1215\n",
      "┌ Info:       7 CO2     2.57e-02 \n",
      "└ @ AGNI.atmosphere /dataserver/users/formingworlds/nicholls/PROTEUS/AGNI/src/atmosphere.jl:1215\n",
      "┌ Info:       8 H2      1.27e-01 \n",
      "└ @ AGNI.atmosphere /dataserver/users/formingworlds/nicholls/PROTEUS/AGNI/src/atmosphere.jl:1215\n"
     ]
    }
   ],
   "source": [
    "# Setup initial atmos struct...\n",
    "fpath = files[1]\n",
    "@printf(\"Setup atmos from %s\", fpath)\n",
    "\n",
    "ds = Dataset(fpath,\"r\")\n",
    "\n",
    "# Get all of the information that we need\n",
    "nlev_c::Int = length(ds[\"p\"][:])\n",
    "\n",
    "#   temperature arrays\n",
    "input_tmpl::Array{Float64,1} = ds[\"tmpl\"][:]\n",
    "input_tmp::Array{Float64,1}  = ds[\"tmp\"][:]\n",
    "\n",
    "#   pressure arrays\n",
    "input_pl::Array{Float64,1} = ds[\"pl\"][:]\n",
    "input_p::Array{Float64,1}  = ds[\"p\"][:]\n",
    "\n",
    "#   gas names\n",
    "raw_gases::Array{Char,2} = ds[\"gases\"][:,:]\n",
    "num_gas::Int = size(raw_gases)[2]\n",
    "input_gases::Array{String,1} = []\n",
    "for i in 1:num_gas\n",
    "    push!(input_gases, strip(String(raw_gases[:,i])))\n",
    "end\n",
    "\n",
    "# gas VMRs\n",
    "raw_vmrs::Array{Float64, 2} = ds[\"x_gas\"][:,:]\n",
    "input_vmrs::Dict{String, Array{Float64,1}} = Dict()      # dict of Arrays\n",
    "input_vmrs_scalar::Dict{String, Float64} = Dict()        # dict of Floats (surface values)\n",
    "for i in 1:num_gas\n",
    "    g = input_gases[i]\n",
    "    input_vmrs[g]     = zeros(Float64, nlev_c)\n",
    "    input_vmrs[g][:] .= raw_vmrs[i, :]\n",
    "\n",
    "    input_vmrs_scalar[g] = input_vmrs[g][end]\n",
    "end\n",
    "\n",
    "# surface\n",
    "input_tsurf::Float64   = ds[\"tmp_surf\"][1]\n",
    "input_radius::Float64  = ds[\"planet_radius\"][1]\n",
    "input_gravity::Float64 = ds[\"surf_gravity\"][1]\n",
    "\n",
    "# stellar properties\n",
    "input_inst::Float64   = ds[\"instellation\"][1]\n",
    "input_s0fact::Float64 = ds[\"inst_factor\"][1]\n",
    "input_albedo::Float64 = ds[\"bond_albedo\"][1]\n",
    "input_zenith::Float64 = ds[\"zenith_angle\"][1]\n",
    "\n",
    "# flags\n",
    "input_flag_rayleigh::Bool  = Bool(ds[\"flag_rayleigh\"][1] == 'y')\n",
    "input_flag_thermo::Bool    = Bool(ds[\"thermo_funct\"][1] == 'y')\n",
    "input_flag_continuum::Bool = Bool(ds[\"flag_continuum\"][1] == 'y')\n",
    "\n",
    "# Close file\n",
    "close(ds);\n",
    "\n",
    "# Setup atmosphere\n",
    "atmos = atmosphere.Atmos_t()\n",
    "atmosphere.setup!(atmos, ROOT_DIR, output_dir,\n",
    "                        spectral_file,\n",
    "                        input_inst, input_s0fact, input_albedo, input_zenith,\n",
    "                        input_tsurf,\n",
    "                        input_gravity, input_radius,\n",
    "                        nlev_c, input_pl[end], input_pl[1],\n",
    "                        input_vmrs_scalar, \"\",\n",
    "                        flag_gcontinuum=input_flag_continuum,\n",
    "                        flag_rayleigh=input_flag_rayleigh,\n",
    "                        thermo_functions=input_flag_thermo,\n",
    "                        overlap_method=2\n",
    "                        )\n",
    "code = atmosphere.allocate!(atmos, star_file)\n",
    "if !code\n",
    "    error(\"Failed\")\n",
    "end"
   ]
  },
  {
   "cell_type": "code",
   "execution_count": 5,
   "metadata": {},
   "outputs": [
    {
     "data": {
      "text/plain": [
       "update_atmos_from_nc! (generic function with 1 method)"
      ]
     },
     "metadata": {},
     "output_type": "display_data"
    }
   ],
   "source": [
    "function update_atmos_from_nc!(atmos, fpath)\n",
    "\n",
    "    ds = Dataset(fpath,\"r\")\n",
    "    @printf(\"    updating from %s \\n\", fpath)\n",
    "\n",
    "    #   gas names\n",
    "    raw_gases::Array{Char,2} = ds[\"gases\"][:,:]\n",
    "    num_gas::Int = size(raw_gases)[2]\n",
    "    input_gases::Array{String,1} = []\n",
    "    for i in 1:num_gas\n",
    "        push!(input_gases, strip(String(raw_gases[:,i])))\n",
    "    end\n",
    "\n",
    "    # gas VMRs\n",
    "    raw_vmrs::Array{Float64, 2} = ds[\"x_gas\"][:,:]\n",
    "    input_vmrs::Dict{String, Array{Float64,1}} = Dict()      # dict of Arrays\n",
    "    input_vmrs_scalar::Dict{String, Float64} = Dict()        # dict of Floats (surface values)\n",
    "    for i in 1:num_gas\n",
    "        g = input_gases[i]\n",
    "        input_vmrs[g]     = zeros(Float64, nlev_c)\n",
    "        input_vmrs[g][:] .= raw_vmrs[i, :]\n",
    "\n",
    "        input_vmrs_scalar[g] = input_vmrs[g][end]\n",
    "    end\n",
    "\n",
    "\n",
    "    # Update the struct with new values\n",
    "    atmos.instellation =  ds[\"instellation\"][1]\n",
    "\n",
    "    atmos.tmp_surf = ds[\"tmp_surf\"][1]\n",
    "    atmos.tmp_magma = ds[\"tmagma\"][1]\n",
    "    atmos.tmpl[:] .= ds[\"tmpl\"][:]\n",
    "    atmos.tmp[:] .=  ds[\"tmp\"][:]\n",
    "\n",
    "    atmos.pl[:] .= ds[\"pl\"][:]\n",
    "    atmos.p[:] .=  ds[\"p\"][:]\n",
    "    atmos.p_boa = atmos.pl[end]\n",
    "\n",
    "    for g in input_gases\n",
    "        atmos.gas_vmr[g][:] .= input_vmrs[g]\n",
    "    end\n",
    "\n",
    "    atmosphere.calc_layer_props!(atmos)\n",
    "\n",
    "    # Close file\n",
    "    close(ds);\n",
    "\n",
    "end"
   ]
  },
  {
   "cell_type": "code",
   "execution_count": 6,
   "metadata": {},
   "outputs": [
    {
     "name": "stdout",
     "output_type": "stream",
     "text": [
      "  1/ 10 = 10.0% \n",
      "    updating from /dataserver/users/formingworlds/nicholls/PROTEUS/output/test/data/0_atm.nc \n",
      "  2/ 10 = 20.0% \n",
      "    updating from /dataserver/users/formingworlds/nicholls/PROTEUS/output/test/data/101579_atm.nc \n",
      "  3/ 10 = 30.0% \n",
      "    updating from /dataserver/users/formingworlds/nicholls/PROTEUS/output/test/data/1016656_atm.nc \n",
      "  4/ 10 = 40.0% \n",
      "    updating from /dataserver/users/formingworlds/nicholls/PROTEUS/output/test/data/1032959_atm.nc \n",
      "  5/ 10 = 50.0% \n",
      "    updating from /dataserver/users/formingworlds/nicholls/PROTEUS/output/test/data/10390_atm.nc \n",
      "  6/ 10 = 60.0% \n",
      "    updating from /dataserver/users/formingworlds/nicholls/PROTEUS/output/test/data/1050893_atm.nc \n",
      "  7/ 10 = 70.0% \n",
      "    updating from /dataserver/users/formingworlds/nicholls/PROTEUS/output/test/data/106454_atm.nc \n",
      "  8/ 10 = 80.0% \n",
      "    updating from /dataserver/users/formingworlds/nicholls/PROTEUS/output/test/data/1070621_atm.nc \n",
      "  9/ 10 = 90.0% \n",
      "    updating from /dataserver/users/formingworlds/nicholls/PROTEUS/output/test/data/1088377_atm.nc \n",
      " 10/ 10 = 100.0% \n",
      "    updating from /dataserver/users/formingworlds/nicholls/PROTEUS/output/test/data/11033_atm.nc \n"
     ]
    }
   ],
   "source": [
    "atm_arr = atmosphere.Atmos_t[]\n",
    "\n",
    "# Loop over netcdfs and post-process them\n",
    "for (i,fpath) in enumerate(files)\n",
    "\n",
    "    # progress\n",
    "    @printf(\"%3d /%3d = %.1f%% \\n\", i, length(files), i*100.0/length(files))\n",
    "\n",
    "    # set new composition and structure\n",
    "    update_atmos_from_nc!(atmos, fpath)\n",
    "\n",
    "    # set fluxes to zero\n",
    "    energy.reset_fluxes!(atmos)\n",
    "\n",
    "    # do radtrans with this composition\n",
    "    energy.radtrans!(atmos, true)   # LW\n",
    "    energy.radtrans!(atmos, false)  # SW\n",
    "\n",
    "    # store result\n",
    "    push!(atm_arr, deepcopy(atmos))\n",
    "end"
   ]
  },
  {
   "cell_type": "code",
   "execution_count": 7,
   "metadata": {},
   "outputs": [
    {
     "ename": "InterruptException",
     "evalue": "InterruptException:",
     "output_type": "error",
     "traceback": [
      "InterruptException:\n",
      "\n",
      "Stacktrace:\n",
      "  [1] ht_keyindex(h::Dict{Symbol, Any}, key::Symbol)\n",
      "    @ Base ./dict.jl:262\n",
      "  [2] getindex\n",
      "    @ ./dict.jl:497 [inlined]\n",
      "  [3] getindex\n",
      "    @ /dataserver/users/formingworlds/nicholls/.julia/packages/RecipesPipeline/BGM3l/src/utils.jl:23 [inlined]\n",
      "  [4] getindex\n",
      "    @ /dataserver/users/formingworlds/nicholls/.julia/packages/Plots/kLeqV/src/args.jl:1775 [inlined]\n",
      "  [5] update_clims(sp::Plots.Subplot{Plots.GRBackend}, op::Function)\n",
      "    @ Plots /dataserver/users/formingworlds/nicholls/.julia/packages/Plots/kLeqV/src/colorbars.jl:21\n",
      "  [6] update_clims(sp::Plots.Subplot{Plots.GRBackend})\n",
      "    @ Plots /dataserver/users/formingworlds/nicholls/.julia/packages/Plots/kLeqV/src/colorbars.jl:17\n",
      "  [7] _update_subplot_colorbars\n",
      "    @ /dataserver/users/formingworlds/nicholls/.julia/packages/Plots/kLeqV/src/colorbars.jl:128 [inlined]\n",
      "  [8] _update_subplot_args(plt::Plots.Plot{Plots.GRBackend}, sp::Plots.Subplot{Plots.GRBackend}, plotattributes_in::RecipesPipeline.DefaultsDict, subplot_index::Int64, remove_pair::Bool)\n",
      "    @ Plots /dataserver/users/formingworlds/nicholls/.julia/packages/Plots/kLeqV/src/args.jl:1944\n",
      "  [9] _prepare_subplot(plt::Plots.Plot{Plots.GRBackend}, plotattributes::RecipesPipeline.DefaultsDict)\n",
      "    @ Plots /dataserver/users/formingworlds/nicholls/.julia/packages/Plots/kLeqV/src/pipeline.jl:387\n",
      " [10] add_series!(plt::Plots.Plot{Plots.GRBackend}, plotattributes::RecipesPipeline.DefaultsDict)\n",
      "    @ Plots /dataserver/users/formingworlds/nicholls/.julia/packages/Plots/kLeqV/src/pipeline.jl:357\n",
      " [11] _process_seriesrecipe(plt::Any, plotattributes::Any)\n",
      "    @ RecipesPipeline /dataserver/users/formingworlds/nicholls/.julia/packages/RecipesPipeline/BGM3l/src/series_recipe.jl:46\n",
      " [12] _process_seriesrecipe(plt::Any, plotattributes::Any)\n",
      "    @ RecipesPipeline /dataserver/users/formingworlds/nicholls/.julia/packages/RecipesPipeline/BGM3l/src/series_recipe.jl:62\n",
      " [13] _process_seriesrecipes!(plt::Any, kw_list::Any)\n",
      "    @ RecipesPipeline /dataserver/users/formingworlds/nicholls/.julia/packages/RecipesPipeline/BGM3l/src/series_recipe.jl:27\n",
      " [14] recipe_pipeline!(plt::Any, plotattributes::Any, args::Any)\n",
      "    @ RecipesPipeline /dataserver/users/formingworlds/nicholls/.julia/packages/RecipesPipeline/BGM3l/src/RecipesPipeline.jl:99\n",
      " [15] _plot!(plt::Plots.Plot, plotattributes::Any, args::Any)\n",
      "    @ Plots /dataserver/users/formingworlds/nicholls/.julia/packages/Plots/kLeqV/src/plot.jl:223\n",
      " [16] plot!(::Plots.Plot, ::Any, ::Vararg{Any}; kw...)\n",
      "    @ Plots /dataserver/users/formingworlds/nicholls/.julia/packages/Plots/kLeqV/src/plot.jl:213\n",
      " [17] top-level scope\n",
      "    @ ~/Projects/PROTEUS/tools/jl_notebook_cell_df34fa98e69747e1a8f8a730347b8e2f_X10sdnNjb2RlLXJlbW90ZQ==.jl:37"
     ]
    }
   ],
   "source": [
    "# plot parameters\n",
    "fs=12\n",
    "lw=1.2\n",
    "la=0.8\n",
    "xmin = 0.0\n",
    "xmax = 40.0\n",
    "logx=true\n",
    "logy=false\n",
    "atm_lvl=1\n",
    "\n",
    "# initialise plot\n",
    "title = \"Upward flux at i=$atm_lvl\"\n",
    "plt = plot(framestyle=:box, size=(1000,500), dpi=200,\n",
    "                leg=:outertopright, legcolumn=-1,\n",
    "                tickfontsize=fs, guidefontsize=fs, legendfontsize=fs,\n",
    "                legendtitlefontsize=fs, leg_title=L\"Gas $g$\",\n",
    "                left_margin = 6Plots.mm,\n",
    "                bottom_margin = 6Plots.mm,\n",
    "                title=title)\n",
    "\n",
    "# band centres\n",
    "x_arr = 0.5 * 1e6 * (atm_arr[1].bands_min + atm_arr[1].bands_max)\n",
    "w_arr = 0.5 * 1e9 * abs.(atm_arr[1].bands_min - atm_arr[1].bands_max)\n",
    "xlim = (max(xmin,x_arr[1]*0.98), xmax)\n",
    "\n",
    "# PLOT surface emission + surface reflection\n",
    "# dashed green line\n",
    "# y_arr = atm_arr[1].band_u_lw[end,:] + atm_arr[1].band_u_sw[end,:]\n",
    "# plot!(plt, x_arr, y_arr, linewidth=lw, linestyle=:dash, linecolor=\"green\", label=\"\")\n",
    "\n",
    "# PLOT spectrum with each gas removed\n",
    "# coloured solid lines\n",
    "for i in 1:length(atm_arr)\n",
    "    this_atm = atm_arr[i]\n",
    "\n",
    "    y_arr = (this_atm.band_u_lw[atm_lvl,:] + this_atm.band_u_sw[atm_lvl,:])/w_arr\n",
    "    plot!(plt, x_arr, y_arr, linewidth=lw, linealpha=la, seriestype = :stepmid)\n",
    "end\n",
    "\n",
    "xlabel!(plt, \"Wavelength [µm]\")\n",
    "xaxis!(plt, minorgrid=true, xlims=xlim)\n",
    "if logx\n",
    "    xaxis!(plt, xscale=:log10)\n",
    "end\n",
    "ylabel!(plt, \"Flux [W m-2]\")\n",
    "yaxis!(plt, yscale=:log10)\n",
    "\n",
    "display(plt)"
   ]
  },
  {
   "cell_type": "code",
   "execution_count": 8,
   "metadata": {},
   "outputs": [],
   "source": [
    "# write new output files\n",
    "for (i,fpath) in enumerate(files)\n",
    "    @printf(\"%3d /%3d = %.1f%% \\n\", i, length(files), i*100.0/length(files))\n",
    "\n",
    "    fpath = replace(fpath, \"_atm.nc\" => \"_ppr.nc\")\n",
    "    dump.write_ncdf(atm_arr[i], joinpath(output_dir, \"data\", fpath))\n",
    "end"
   ]
  }
 ],
 "metadata": {
  "kernelspec": {
   "display_name": "Julia 1.10.5",
   "language": "julia",
   "name": "julia-1.10"
  },
  "language_info": {
   "file_extension": ".jl",
   "mimetype": "application/julia",
   "name": "julia",
   "version": "1.10.5"
  }
 },
 "nbformat": 4,
 "nbformat_minor": 2
}
