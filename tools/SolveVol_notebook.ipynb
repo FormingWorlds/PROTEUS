{
 "cells": [
  {
   "cell_type": "code",
   "execution_count": 21,
   "metadata": {},
   "outputs": [],
   "source": [
    "import sys\n",
    "sys.path.append(\"..\") \n",
    "from utils.surface_gases import *"
   ]
  },
  {
   "cell_type": "code",
   "execution_count": 22,
   "metadata": {},
   "outputs": [],
   "source": [
    "COUPLER_options = {}\n",
    "\n",
    "COUPLER_options['Phi_global'] = 1.0e-9\n",
    "COUPLER_options['T_outgas'] = 3000.0\n",
    "\n",
    "COUPLER_options['radius'] = 6.371e6\n",
    "COUPLER_options['mass']   = 5.972e24\n",
    "COUPLER_options['gravity'] = 6.67e-11 * COUPLER_options['mass'] / (COUPLER_options['radius']**2)\n",
    "COUPLER_options['hydrogen_earth_oceans'] = 5.0\n",
    "COUPLER_options['CH_ratio'] = 2.0\n",
    "COUPLER_options['fO2_shift_IW'] = 5.0\n",
    "COUPLER_options['nitrogen_ppmw'] = 2.0\n",
    "COUPLER_options['planet_coresize'] = 0.55\n",
    "\n",
    "solvepp_vols = ['H2O', 'CO2', 'N2', 'H2', 'CO', 'CH4']\n",
    "for v in solvepp_vols:\n",
    "    COUPLER_options[v+\"_included\"] = 0\n",
    "    COUPLER_options[v+\"_pa\"] = 0.0\n",
    "\n",
    "COUPLER_options[\"H2O_included\"] = 1\n",
    "COUPLER_options[\"CO2_included\"] = 1\n",
    "COUPLER_options[\"N2_included\"]  = 1\n",
    "\n",
    "COUPLER_options[\"H2O_pa\"] = 1.0e5\n",
    "# COUPLER_options[\"CO2_pa\"] = 7.3e5\n",
    "\n"
   ]
  },
  {
   "cell_type": "code",
   "execution_count": 23,
   "metadata": {},
   "outputs": [],
   "source": [
    "COUPLER_options[\"mantle_mass\"] = calc_mantle_mass(COUPLER_options)"
   ]
  },
  {
   "cell_type": "code",
   "execution_count": 24,
   "metadata": {},
   "outputs": [
    {
     "name": "stdout",
     "output_type": "stream",
     "text": [
      "{'H2O': 1.0, 'CO2': 0.0, 'N2': 0.0}\n",
      "Targets:\n",
      "{'H': 5.815920850604364e+17, 'C': 0.0, 'N': 0.0}\n"
     ]
    }
   ],
   "source": [
    "# solvepp_target = solvepp_get_target_from_params(COUPLER_options)\n",
    "solvepp_target = solvepp_get_target_from_pressures(COUPLER_options)\n",
    "\n",
    "print(\"Targets:\")\n",
    "print(solvepp_target)"
   ]
  },
  {
   "cell_type": "code",
   "execution_count": 29,
   "metadata": {},
   "outputs": [
    {
     "name": "stdout",
     "output_type": "stream",
     "text": [
      "{'H2O_pa': 100000.0, 'H2O_kg_atm': 5.197501835570717e+18, 'H2O_kg_int': 2112158106461.001, 'CO2_pa': 0.0, 'CO2_kg_atm': 0.0, 'CO2_kg_int': 0.0, 'H2_pa': 0.0, 'H2_kg_atm': 0.0, 'H2_kg_int': 0.0, 'CH4_pa': 0.0, 'CH4_kg_atm': 0.0, 'CH4_kg_int': 0.0, 'CO_pa': 0.0, 'CO_kg_atm': 0.0, 'CO_kg_int': 0.0, 'N2_pa': 0.0, 'N2_kg_atm': 0.0, 'N2_kg_int': 0.0}\n",
      "Partial pressures\n",
      "    H2O : 1.0 bar\n",
      "    CO2 : 0.0 bar\n",
      "    N2 : 0.0 bar\n",
      "    H2 : 0.0 bar\n",
      "    CO : 0.0 bar\n",
      "    CH4 : 0.0 bar\n",
      "mubar = 0.01801528\n",
      "{'H2O': 5.197501835570717e+18, 'CO2': 0.0, 'N2': 0.0, 'H': 5.815918487134418e+17, 'C': 0.0, 'N': 0.0}\n",
      " \n",
      "{'H2O': 5.194866923642551e+18, 'CO2': 0.0, 'N2': 0.0, 'H2': 0.0, 'CO': 0.0, 'CH4': 0.0}\n",
      "5.81331609503898e+17 0.0 0.0\n"
     ]
    }
   ],
   "source": [
    "p_d = solvepp_equilibrium_atmosphere(solvepp_target, COUPLER_options)\n",
    "\n",
    "print(p_d)\n",
    "\n",
    "p_bar = {}\n",
    "for v in volatile_species:\n",
    "    p_bar[v] = p_d[v+\"_pa\"]*1.0e-5 # convert to bar\n",
    "\n",
    "mubar = 0.0\n",
    "ptot = 0.0\n",
    "print(\"Partial pressures\")\n",
    "for v in solvepp_vols:\n",
    "    print(\"    %s : %.1f bar\"%(v, p_bar[v]))\n",
    "    ptot += p_bar[v]\n",
    "    mubar += p_bar[v]*molar_mass[v]\n",
    "mubar /= ptot\n",
    "\n",
    "print(\"mubar =\",mubar)\n",
    "\n",
    "m_d = {}\n",
    "for v in solvepp_vols:\n",
    "    m_d[v] = p_bar[v]*1.0e5 * 4 * 3.14 * (molar_mass[v]/mubar) * COUPLER_options[\"radius\"]**2.0 / COUPLER_options[\"gravity\"]\n",
    "\n",
    "print(solvepp_atmosphere_mass(p_bar, COUPLER_options))\n",
    "\n",
    "print(\" \")\n",
    "print(m_d)\n",
    "\n",
    "\n",
    "C_kg = (m_d[\"CO2\"]/molar_mass[\"CO2\"] + m_d[\"CO\"]/molar_mass[\"CO\"] + m_d[\"CH4\"]/molar_mass[\"CH4\"]) * molar_mass['C']\n",
    "H_kg = (2*m_d[\"H2O\"]/molar_mass[\"H2O\"] + 2*m_d[\"H2\"]/molar_mass[\"H2\"] + 4*m_d[\"CH4\"]/molar_mass[\"CH4\"]) *molar_mass['H']\n",
    "N_kg = m_d[\"N2\"]\n",
    "\n",
    "print(H_kg, C_kg, N_kg)\n"
   ]
  },
  {
   "cell_type": "code",
   "execution_count": 30,
   "metadata": {},
   "outputs": [
    {
     "name": "stdout",
     "output_type": "stream",
     "text": [
      "0.0037797893985949153\n",
      "C/H = 0.0000\n"
     ]
    }
   ],
   "source": [
    "H_mol = H_kg / (1.0e-3)\n",
    "H_oc  = H_mol / (7.69e22 * 2.0)\n",
    "\n",
    "\n",
    "print(H_oc)\n",
    "print(\"C/H = %.4f\" % (C_kg/H_kg))"
   ]
  },
  {
   "cell_type": "code",
   "execution_count": null,
   "metadata": {},
   "outputs": [],
   "source": []
  },
  {
   "cell_type": "code",
   "execution_count": null,
   "metadata": {},
   "outputs": [],
   "source": []
  },
  {
   "cell_type": "code",
   "execution_count": null,
   "metadata": {},
   "outputs": [],
   "source": []
  }
 ],
 "metadata": {
  "kernelspec": {
   "display_name": "proteus",
   "language": "python",
   "name": "python3"
  },
  "language_info": {
   "codemirror_mode": {
    "name": "ipython",
    "version": 3
   },
   "file_extension": ".py",
   "mimetype": "text/x-python",
   "name": "python",
   "nbconvert_exporter": "python",
   "pygments_lexer": "ipython3",
   "version": "3.12.2"
  }
 },
 "nbformat": 4,
 "nbformat_minor": 2
}
