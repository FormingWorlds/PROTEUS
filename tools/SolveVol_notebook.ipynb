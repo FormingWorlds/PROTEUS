{
 "cells": [
  {
   "cell_type": "code",
   "execution_count": 14,
   "metadata": {},
   "outputs": [],
   "source": [
    "import sys\n",
    "sys.path.append(\"..\") \n",
    "from utils.surface_gases import *"
   ]
  },
  {
   "cell_type": "code",
   "execution_count": 15,
   "metadata": {},
   "outputs": [],
   "source": [
    "COUPLER_options = {}\n",
    "\n",
    "COUPLER_options['Phi_global'] = 1.0e-9\n",
    "COUPLER_options['T_outgas'] = 3000.0\n",
    "\n",
    "COUPLER_options['radius'] = 6.371e6\n",
    "COUPLER_options['mass']   = 5.972e24\n",
    "COUPLER_options['gravity'] = 6.67e-11 * COUPLER_options['mass'] / (COUPLER_options['radius']**2)\n",
    "COUPLER_options['hydrogen_earth_oceans'] = 5.0\n",
    "COUPLER_options['CH_ratio'] = 2.0\n",
    "COUPLER_options['fO2_shift_IW'] = 5.0\n",
    "COUPLER_options['nitrogen_ppmw'] = 2.0\n",
    "COUPLER_options['planet_coresize'] = 0.55\n",
    "\n",
    "solvepp_vols = ['H2O', 'CO2', 'N2', 'H2', 'CO', 'CH4']\n",
    "for v in solvepp_vols:\n",
    "    COUPLER_options[v+\"_included\"] = 0\n",
    "    COUPLER_options[v+\"_pa\"] = 0.0\n",
    "\n",
    "COUPLER_options[\"H2O_included\"] = 1\n",
    "COUPLER_options[\"CO2_included\"] = 1\n",
    "COUPLER_options[\"N2_included\"]  = 1\n",
    "\n",
    "COUPLER_options[\"H2O_pa\"] = 1.0e5\n",
    "\n"
   ]
  },
  {
   "cell_type": "code",
   "execution_count": 16,
   "metadata": {},
   "outputs": [],
   "source": [
    "COUPLER_options[\"mantle_mass\"] = calc_mantle_mass(COUPLER_options)"
   ]
  },
  {
   "cell_type": "code",
   "execution_count": 17,
   "metadata": {},
   "outputs": [
    {
     "name": "stdout",
     "output_type": "stream",
     "text": [
      "Targets:\n",
      "{'H': 7.749999999999999e+20, 'C': 1.5499999999999997e+21, 'N': 8.061672162064889e+18}\n"
     ]
    }
   ],
   "source": [
    "solvepp_target = solvepp_get_target_from_params(COUPLER_options)\n",
    "# solvepp_target = solvepp_get_target_from_pressures(COUPLER_options)\n",
    "\n",
    "print(\"Targets:\")\n",
    "print(solvepp_target)"
   ]
  },
  {
   "cell_type": "code",
   "execution_count": 18,
   "metadata": {},
   "outputs": [
    {
     "name": "stdout",
     "output_type": "stream",
     "text": [
      "Partial pressures\n",
      "    H2O : 1815.9 bar\n",
      "    CO2 : 609.6 bar\n",
      "    N2 : 1.4 bar\n",
      "    H2 : 0.0 bar\n",
      "    CO : 0.0 bar\n",
      "    CH4 : 0.0 bar\n",
      "0.02455004188782538\n",
      "{'H2O': 6.925929032754683e+21, 'CO2': 5.679418864982086e+21, 'N2': 8.061672161840598e+18, 'H': 7.749999899279672e+20, 'C': 1.5499999997114256e+21, 'N': 8.061672161840598e+18}\n",
      " \n",
      "{'H2O': 6.922417881898108e+21, 'CO2': 5.676539641657918e+21, 'N2': 8.057585237619655e+18, 'H2': 0.0, 'CO': 0.0, 'CH4': 0.0}\n",
      "7.746532082713444e+20 1.5492142157680812e+21 8.057585237619655e+18\n"
     ]
    }
   ],
   "source": [
    "p_d = solvepp_equilibrium_atmosphere(solvepp_target, COUPLER_options)\n",
    "\n",
    "p_bar = {}\n",
    "for e in p_d.keys():\n",
    "    p_bar[e] = p_d[e]*1.0e-5 # convert to bar\n",
    "\n",
    "mubar = 0.0\n",
    "ptot = 0.0\n",
    "print(\"Partial pressures\")\n",
    "for v in solvepp_vols:\n",
    "    print(\"    %s : %.1f bar\"%(v, p_bar[v]))\n",
    "    ptot += p_bar[v]\n",
    "    mubar += p_bar[v]*molar_mass[v]\n",
    "mubar /= ptot\n",
    "\n",
    "print(mubar)\n",
    "\n",
    "m_d = {}\n",
    "for v in solvepp_vols:\n",
    "    m_d[v] = p_bar[v]*1.0e5 * 4 * 3.14 * (molar_mass[v]/mubar) * COUPLER_options[\"radius\"]**2.0 / COUPLER_options[\"gravity\"]\n",
    "\n",
    "print(solvepp_atmosphere_mass(p_bar, COUPLER_options))\n",
    "\n",
    "print(\" \")\n",
    "print(m_d)\n",
    "\n",
    "\n",
    "C_kg = (m_d[\"CO2\"]/molar_mass[\"CO2\"] + m_d[\"CO\"]/molar_mass[\"CO\"] + m_d[\"CH4\"]/molar_mass[\"CH4\"]) * molar_mass['C']\n",
    "H_kg = (2*m_d[\"H2O\"]/molar_mass[\"H2O\"] + 2*m_d[\"H2\"]/molar_mass[\"H2\"] + 4*m_d[\"CH4\"]/molar_mass[\"CH4\"]) *molar_mass['H']\n",
    "N_kg = m_d[\"N2\"]\n",
    "\n",
    "print(H_kg, C_kg, N_kg)\n"
   ]
  },
  {
   "cell_type": "code",
   "execution_count": 19,
   "metadata": {},
   "outputs": [
    {
     "name": "stdout",
     "output_type": "stream",
     "text": [
      "5.036756880827986\n",
      "C/H = 1.9999\n"
     ]
    }
   ],
   "source": [
    "H_mol = H_kg / (1.0e-3)\n",
    "H_oc  = H_mol / (7.69e22 * 2.0)\n",
    "\n",
    "\n",
    "print(H_oc)\n",
    "print(\"C/H = %.4f\" % (C_kg/H_kg))"
   ]
  },
  {
   "cell_type": "code",
   "execution_count": null,
   "metadata": {},
   "outputs": [],
   "source": []
  },
  {
   "cell_type": "code",
   "execution_count": null,
   "metadata": {},
   "outputs": [],
   "source": []
  },
  {
   "cell_type": "code",
   "execution_count": null,
   "metadata": {},
   "outputs": [],
   "source": []
  }
 ],
 "metadata": {
  "kernelspec": {
   "display_name": "proteus",
   "language": "python",
   "name": "python3"
  },
  "language_info": {
   "codemirror_mode": {
    "name": "ipython",
    "version": 3
   },
   "file_extension": ".py",
   "mimetype": "text/x-python",
   "name": "python",
   "nbconvert_exporter": "python",
   "pygments_lexer": "ipython3",
   "version": "3.12.2"
  }
 },
 "nbformat": 4,
 "nbformat_minor": 2
}
