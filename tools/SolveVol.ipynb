{
 "cells": [
  {
   "cell_type": "code",
   "execution_count": 129,
   "metadata": {},
   "outputs": [],
   "source": [
    "import sys\n",
    "sys.path.append(\"..\") \n",
    "from utils.surface_gases import *"
   ]
  },
  {
   "cell_type": "code",
   "execution_count": 130,
   "metadata": {},
   "outputs": [
    {
     "name": "stdout",
     "output_type": "stream",
     "text": [
      "Gravity = 22.304 m.s-2\n"
     ]
    }
   ],
   "source": [
    "COUPLER_options = {}\n",
    "\n",
    "COUPLER_options['Phi_global'] = 1.0\n",
    "COUPLER_options['T_outgas'] = 2700.0\n",
    "\n",
    "COUPLER_options['radius'] = 6.371e6 * 1.875\n",
    "COUPLER_options['mass']   = 5.972e24 * 7.99\n",
    "COUPLER_options['gravity'] = 6.67e-11 * COUPLER_options['mass'] / (COUPLER_options['radius']**2)\n",
    "COUPLER_options['hydrogen_earth_oceans'] = 8.0\n",
    "COUPLER_options['CH_ratio'] = 1.0\n",
    "COUPLER_options['fO2_shift_IW'] = 0.0\n",
    "COUPLER_options['nitrogen_ppmw'] = 4.0\n",
    "COUPLER_options['planet_coresize'] = 0.5\n",
    "\n",
    "solvevol_vols = ['H2O', 'CO2', 'N2', 'H2', 'CO', 'CH4']\n",
    "for v in solvevol_vols:\n",
    "    COUPLER_options[v+\"_included\"] = 0\n",
    "    COUPLER_options[v+\"_initial_bar\"] = 0.0\n",
    "\n",
    "COUPLER_options[\"H2O_included\"] = 1\n",
    "COUPLER_options[\"CO2_included\"] = 1\n",
    "COUPLER_options[\"N2_included\"]  = 1\n",
    "COUPLER_options[\"H2_included\"]  = 1\n",
    "COUPLER_options[\"CO_included\"]  = 1\n",
    "COUPLER_options[\"CH4_included\"] = 1\n",
    "\n",
    "# COUPLER_options[\"H2O_initial_bar\"] = 1.0\n",
    "# COUPLER_options[\"CO2_initial_bar\"] = 0.0\n",
    "# COUPLER_options[\"N2_initial_bar\"]  = 0.0\n",
    "\n",
    "print(\"Gravity = %.3f m.s-2\" % COUPLER_options[\"gravity\"])\n",
    "\n"
   ]
  },
  {
   "cell_type": "code",
   "execution_count": 131,
   "metadata": {},
   "outputs": [],
   "source": [
    "COUPLER_options[\"mantle_mass\"] = calc_mantle_mass(COUPLER_options)"
   ]
  },
  {
   "cell_type": "code",
   "execution_count": 132,
   "metadata": {},
   "outputs": [
    {
     "name": "stdout",
     "output_type": "stream",
     "text": [
      "Targets:\n",
      "{'H': 1.24e+21, 'C': 1.24e+21, 'N': 1.5241054973730108e+20}\n"
     ]
    }
   ],
   "source": [
    "solvevol_target = solvevol_get_target_from_params(COUPLER_options)\n",
    "# solvevol_target = solvevol_get_target_from_pressures(COUPLER_options)\n",
    "\n",
    "print(\"Targets:\")\n",
    "print(solvevol_target)"
   ]
  },
  {
   "cell_type": "code",
   "execution_count": 133,
   "metadata": {},
   "outputs": [
    {
     "name": "stdout",
     "output_type": "stream",
     "text": [
      "{'M_atm': 2.1225087698604377e+21, 'P_surf': 263.99550545393123, 'H2O_atm_bar': 0.3077364717897987, 'H2O_atm_kg': 1.5438725362023365e+18, 'H2O_liquid_kg': 1.1075817990724453e+22, 'H2O_solid_kg': 0.0, 'H2O_total_kg': 1.1077361863260656e+22, 'CO2_atm_bar': 15.51624606722886, 'CO2_atm_kg': 1.901645157301512e+20, 'CO2_liquid_kg': 2.6968332559579703e+20, 'CO2_solid_kg': 0.0, 'CO2_total_kg': 4.598478413259482e+20, 'H2_atm_bar': 0.6906931565382476, 'H2_atm_kg': 3.877406053857657e+17, 'H2_liquid_kg': 0.0, 'H2_solid_kg': 0.0, 'H2_total_kg': 3.877406053857657e+17, 'CH4_atm_bar': 5.432810394121949e-07, 'CH4_atm_kg': 2426723899060.5693, 'CH4_liquid_kg': 286450226241.41724, 'CH4_solid_kg': 0.0, 'CH4_total_kg': 2713174125301.9863, 'CO_atm_bar': 231.4154988774856, 'CO_atm_kg': 1.805082292390178e+21, 'CO_liquid_kg': 7.939651901402958e+20, 'CO_solid_kg': 0.0, 'CO_total_kg': 2.5990474825304737e+21, 'N2_atm_bar': 16.065330337607712, 'N2_atm_kg': 1.2533034617179639e+20, 'N2_liquid_kg': 2.708020356550252e+19, 'N2_solid_kg': 0.0, 'N2_total_kg': 1.5241054973729892e+20, 'H2O_mr': 0.0011656882993544013, 'CO2_mr': 0.05877465997214311, 'H2_mr': 0.002616306498667939, 'CH4_mr': 2.0579177606756666e-09, 'CO_mr': 0.8765887831293739, 'N2_mr': 0.060854560042542874, 'H_atm_kg': 5.605313605806383e+17, 'H_liquid_kg': 1.2394394686398265e+21, 'H_solid_kg': 0.0, 'H_total_kg': 1.240000000000407e+21, 'C_atm_kg': 8.259381910799458e+20, 'C_liquid_kg': 4.1406180892014084e+20, 'C_solid_kg': 0.0, 'C_total_kg': 1.2400000000000865e+21, 'N_atm_kg': 1.2533034617179639e+20, 'N_liquid_kg': 2.708020356550252e+19, 'N_solid_kg': 0.0, 'N_total_kg': 1.5241054973729892e+20, 'O_atm_kg': 1.1706753793955345e+21, 'O_liquid_kg': 1.048578695704263e+22, 'O_solid_kg': 0.0, 'O_total_kg': 1.1656462336438164e+22, 'H_res': 3.283142193548387e-13, 'C_res': 6.976412903225807e-14, 'N_res': -1.4189883861239705e-14}\n",
      "Partial pressures\n",
      "    H2O : 0.308 bar\n",
      "    CO2 : 15.516 bar\n",
      "    N2 : 16.065 bar\n",
      "    H2 : 0.691 bar\n",
      "    CO : 231.415 bar\n",
      "    CH4 : 0.000 bar\n",
      "mubar = 0.02887097863991871\n",
      " \n",
      "{'H2O': 1.5430898586218563e+18, 'CO2': 1.900681104249367e+20, 'N2': 1.2526680902750352e+20, 'H2': 3.875440374232164e+17, 'CO': 1.804167192595314e+21, 'CH4': 2425493653463.6865}\n",
      "5.6024719506904646e+17 8.255194756161611e+20 1.2526680902750352e+20\n"
     ]
    }
   ],
   "source": [
    "p_d = solvevol_equilibrium_atmosphere(solvevol_target, COUPLER_options)\n",
    "\n",
    "print(p_d)\n",
    "\n",
    "p_bar = {}\n",
    "for v in volatile_species:\n",
    "    p_bar[v] = p_d[v+\"_atm_bar\"]\n",
    "\n",
    "mubar = 0.0\n",
    "ptot = 0.0\n",
    "print(\"Partial pressures\")\n",
    "for v in solvevol_vols:\n",
    "    print(\"    %s : %.3f bar\"%(v, p_bar[v]))\n",
    "    ptot += p_bar[v]\n",
    "    mubar += p_bar[v]*molar_mass[v]\n",
    "mubar /= ptot\n",
    "\n",
    "print(\"mubar =\",mubar)\n",
    "\n",
    "m_d = {}\n",
    "for v in solvevol_vols:\n",
    "    m_d[v] = p_bar[v]*1.0e5 * 4 * 3.14 * (molar_mass[v]/mubar) * COUPLER_options[\"radius\"]**2.0 / COUPLER_options[\"gravity\"]\n",
    "\n",
    "# print(solvevol_atmosphere_mass(p_bar, COUPLER_options))\n",
    "\n",
    "print(\" \")\n",
    "print(m_d)\n",
    "\n",
    "H_kg = (2*m_d[\"H2O\"]/molar_mass[\"H2O\"] + 2*m_d[\"H2\"]/molar_mass[\"H2\"] + 4*m_d[\"CH4\"]/molar_mass[\"CH4\"]) *molar_mass['H']\n",
    "C_kg = (m_d[\"CO2\"]/molar_mass[\"CO2\"] + m_d[\"CO\"]/molar_mass[\"CO\"] + m_d[\"CH4\"]/molar_mass[\"CH4\"]) * molar_mass['C']\n",
    "N_kg = m_d[\"N2\"]\n",
    "\n",
    "print(H_kg, C_kg, N_kg)\n"
   ]
  },
  {
   "cell_type": "code",
   "execution_count": 134,
   "metadata": {},
   "outputs": [
    {
     "name": "stdout",
     "output_type": "stream",
     "text": [
      "[H] atm = 0.0036\n",
      "C/H atm = 1473.4915\n"
     ]
    }
   ],
   "source": [
    "H_mol = H_kg / (1.0e-3)\n",
    "H_oc  = H_mol / (7.69e22 * 2.0)\n",
    "\n",
    "\n",
    "print(\"[H] atm = %.4f\" % H_oc)\n",
    "print(\"C/H atm = %.4f\" % (C_kg/H_kg))"
   ]
  }
 ],
 "metadata": {
  "kernelspec": {
   "display_name": "proteus",
   "language": "python",
   "name": "python3"
  },
  "language_info": {
   "codemirror_mode": {
    "name": "ipython",
    "version": 3
   },
   "file_extension": ".py",
   "mimetype": "text/x-python",
   "name": "python",
   "nbconvert_exporter": "python",
   "pygments_lexer": "ipython3",
   "version": "3.12.2"
  }
 },
 "nbformat": 4,
 "nbformat_minor": 2
}
