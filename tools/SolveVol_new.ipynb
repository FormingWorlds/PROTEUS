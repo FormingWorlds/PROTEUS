{
 "cells": [
  {
   "cell_type": "code",
   "execution_count": 1,
   "metadata": {},
   "outputs": [],
   "source": [
    "import sys\n",
    "sys.path.append(\"..\") \n",
    "from utils.surface_gases import *"
   ]
  },
  {
   "cell_type": "code",
   "execution_count": 2,
   "metadata": {},
   "outputs": [],
   "source": [
    "COUPLER_options = {}\n",
    "\n",
    "COUPLER_options['Phi_global'] = 1.0e-19\n",
    "COUPLER_options['T_outgas'] = 3000.0\n",
    "\n",
    "COUPLER_options['radius'] = 6.371e6\n",
    "COUPLER_options['mass']   = 5.972e24\n",
    "COUPLER_options['gravity'] = 6.67e-11 * COUPLER_options['mass'] / (COUPLER_options['radius']**2)\n",
    "COUPLER_options['hydrogen_earth_oceans'] = 1.0\n",
    "COUPLER_options['CH_ratio'] = 2.0\n",
    "COUPLER_options['fO2_shift_IW'] = 5.0\n",
    "COUPLER_options['nitrogen_ppmw'] = 2.0\n",
    "COUPLER_options['planet_coresize'] = 0.55\n",
    "\n",
    "solvevol_vols = ['H2O', 'CO2', 'N2', 'H2', 'CO', 'CH4']\n",
    "for v in solvevol_vols:\n",
    "    COUPLER_options[v+\"_included\"] = 0\n",
    "    COUPLER_options[v+\"_pa\"] = 0.0\n",
    "\n",
    "COUPLER_options[\"H2O_included\"] = 1\n",
    "COUPLER_options[\"CO2_included\"] = 1\n",
    "COUPLER_options[\"N2_included\"]  = 1\n",
    "\n",
    "COUPLER_options[\"H2O_initial_bar\"] = 1.0\n",
    "COUPLER_options[\"CO2_initial_bar\"] = 0.0\n",
    "COUPLER_options[\"N2_initial_bar\"]  = 0.0\n",
    "\n"
   ]
  },
  {
   "cell_type": "code",
   "execution_count": 3,
   "metadata": {},
   "outputs": [],
   "source": [
    "COUPLER_options[\"mantle_mass\"] = calc_mantle_mass(COUPLER_options)"
   ]
  },
  {
   "cell_type": "code",
   "execution_count": 4,
   "metadata": {},
   "outputs": [
    {
     "name": "stdout",
     "output_type": "stream",
     "text": [
      "Targets:\n",
      "{'H': 1.55e+20, 'C': 3.1e+20, 'N': 8.061672162064889e+18}\n"
     ]
    }
   ],
   "source": [
    "solvevol_target = solvevol_get_target_from_params(COUPLER_options)\n",
    "# solvevol_target = solvevol_get_target_from_pressures(COUPLER_options)\n",
    "\n",
    "print(\"Targets:\")\n",
    "print(solvevol_target)"
   ]
  },
  {
   "cell_type": "code",
   "execution_count": 5,
   "metadata": {},
   "outputs": [
    {
     "name": "stdout",
     "output_type": "stream",
     "text": [
      "{'M_atm': 0.0, 'P_surf': 486.5893074009107, 'H2O_atm_bar': 363.2794718184761, 'H2O_atm_kg': 1.3851033730224664e+21, 'H2O_liquid_kg': 4025.750477365765, 'H2O_solid_kg': 0.0, 'H2O_total_kg': 1.3851033730224664e+21, 'CO2_atm_bar': 121.95011492431834, 'CO2_atm_kg': 1.1358837732008081e+21, 'CO2_liquid_kg': 22.208193767394164, 'CO2_solid_kg': 0.0, 'CO2_total_kg': 1.1358837732008081e+21, 'H2_atm_bar': 0.0, 'H2_atm_kg': 0.0, 'H2_liquid_kg': 0.0, 'H2_solid_kg': 0.0, 'H2_total_kg': 0.0, 'CH4_atm_bar': 0.0, 'CH4_atm_kg': 0.0, 'CH4_liquid_kg': 0.0, 'CH4_solid_kg': 0.0, 'CH4_total_kg': 0.0, 'CO_atm_bar': 0.0, 'CO_atm_kg': 0.0, 'CO_liquid_kg': 0.0, 'CO_solid_kg': 0.0, 'CO_total_kg': 0.0, 'N2_atm_bar': 1.3597206581162269, 'N2_atm_kg': 8.061672162041967e+18, 'N2_liquid_kg': 0.02229789108420262, 'N2_solid_kg': 0.0, 'N2_total_kg': 8.061672162041967e+18, 'H2O_mr': 0.7465833430638106, 'CO2_mr': 0.25062226618934147, 'H2_mr': 0.0, 'CH4_mr': 0.0, 'CO_mr': 0.0, 'N2_mr': 0.002794390746847887, 'H_atm_kg': 1.550000000007378e+20, 'H_liquid_kg': 450.5016276388367, 'H_solid_kg': 0.0, 'H_total_kg': 1.550000000007378e+20, 'C_atm_kg': 3.099999999980665e+20, 'C_liquid_kg': 6.060954677122729, 'C_solid_kg': 0.0, 'C_total_kg': 3.099999999980665e+20, 'N_atm_kg': 8.061672162041967e+18, 'N_liquid_kg': 0.02229789108420262, 'N_solid_kg': 0.0, 'N_total_kg': 8.061672162041967e+18, 'O_atm_kg': 2.055939808772227e+21, 'O_liquid_kg': 16.14673447328058, 'O_solid_kg': 0.0, 'O_total_kg': 2.055939808772227e+21, 'H_res': 4.760027664516129e-12, 'C_res': -6.2371245419354836e-12, 'N_res': -2.8433604764856596e-12}\n",
      "Partial pressures\n",
      "    H2O : 363.3 bar\n",
      "    CO2 : 122.0 bar\n",
      "    N2 : 1.4 bar\n",
      "    H2 : 0.0 bar\n",
      "    CO : 0.0 bar\n",
      "    CH4 : 0.0 bar\n",
      "mubar = 0.024558075966005722\n",
      " \n",
      "{'H2O': 1.384401184641437e+21, 'CO2': 1.1353079285358709e+21, 'N2': 8.057585237820924e+18, 'H2': 0.0, 'CO': 0.0, 'CH4': 0.0}\n",
      "1.549214216063884e+20 3.098428432093693e+20 8.057585237820924e+18\n"
     ]
    }
   ],
   "source": [
    "p_d = solvevol_equilibrium_atmosphere(solvevol_target, COUPLER_options)\n",
    "\n",
    "print(p_d)\n",
    "\n",
    "p_bar = {}\n",
    "for v in volatile_species:\n",
    "    p_bar[v] = p_d[v+\"_atm_bar\"]\n",
    "\n",
    "mubar = 0.0\n",
    "ptot = 0.0\n",
    "print(\"Partial pressures\")\n",
    "for v in solvevol_vols:\n",
    "    print(\"    %s : %.1f bar\"%(v, p_bar[v]))\n",
    "    ptot += p_bar[v]\n",
    "    mubar += p_bar[v]*molar_mass[v]\n",
    "mubar /= ptot\n",
    "\n",
    "print(\"mubar =\",mubar)\n",
    "\n",
    "m_d = {}\n",
    "for v in solvevol_vols:\n",
    "    m_d[v] = p_bar[v]*1.0e5 * 4 * 3.14 * (molar_mass[v]/mubar) * COUPLER_options[\"radius\"]**2.0 / COUPLER_options[\"gravity\"]\n",
    "\n",
    "# print(solvevol_atmosphere_mass(p_bar, COUPLER_options))\n",
    "\n",
    "print(\" \")\n",
    "print(m_d)\n",
    "\n",
    "H_kg = (2*m_d[\"H2O\"]/molar_mass[\"H2O\"] + 2*m_d[\"H2\"]/molar_mass[\"H2\"] + 4*m_d[\"CH4\"]/molar_mass[\"CH4\"]) *molar_mass['H']\n",
    "C_kg = (m_d[\"CO2\"]/molar_mass[\"CO2\"] + m_d[\"CO\"]/molar_mass[\"CO\"] + m_d[\"CH4\"]/molar_mass[\"CH4\"]) * molar_mass['C']\n",
    "N_kg = m_d[\"N2\"]\n",
    "\n",
    "print(H_kg, C_kg, N_kg)\n"
   ]
  },
  {
   "cell_type": "code",
   "execution_count": 6,
   "metadata": {},
   "outputs": [
    {
     "name": "stdout",
     "output_type": "stream",
     "text": [
      "1.0072914278698855\n",
      "C/H = 2.0000\n"
     ]
    }
   ],
   "source": [
    "H_mol = H_kg / (1.0e-3)\n",
    "H_oc  = H_mol / (7.69e22 * 2.0)\n",
    "\n",
    "\n",
    "print(H_oc)\n",
    "print(\"C/H = %.4f\" % (C_kg/H_kg))"
   ]
  },
  {
   "cell_type": "code",
   "execution_count": null,
   "metadata": {},
   "outputs": [],
   "source": []
  },
  {
   "cell_type": "code",
   "execution_count": null,
   "metadata": {},
   "outputs": [],
   "source": []
  },
  {
   "cell_type": "code",
   "execution_count": null,
   "metadata": {},
   "outputs": [],
   "source": []
  }
 ],
 "metadata": {
  "kernelspec": {
   "display_name": "proteus",
   "language": "python",
   "name": "python3"
  },
  "language_info": {
   "codemirror_mode": {
    "name": "ipython",
    "version": 3
   },
   "file_extension": ".py",
   "mimetype": "text/x-python",
   "name": "python",
   "nbconvert_exporter": "python",
   "pygments_lexer": "ipython3",
   "version": "3.12.2"
  }
 },
 "nbformat": 4,
 "nbformat_minor": 2
}
