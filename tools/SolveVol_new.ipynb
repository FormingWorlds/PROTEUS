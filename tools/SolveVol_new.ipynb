{
 "cells": [
  {
   "cell_type": "code",
   "execution_count": 1,
   "metadata": {},
   "outputs": [],
   "source": [
    "import sys\n",
    "sys.path.append(\"..\") \n",
    "from utils.surface_gases import *"
   ]
  },
  {
   "cell_type": "code",
   "execution_count": 2,
   "metadata": {},
   "outputs": [
    {
     "name": "stdout",
     "output_type": "stream",
     "text": [
      "Gravity = 12.433 m.s-2\n"
     ]
    }
   ],
   "source": [
    "COUPLER_options = {}\n",
    "\n",
    "COUPLER_options['Phi_global'] = 0.005\n",
    "COUPLER_options['T_outgas'] = 1500.0\n",
    "\n",
    "COUPLER_options['radius'] = 6.371e6 * 2.61\n",
    "COUPLER_options['mass']   = 5.972e24 * 8.63\n",
    "COUPLER_options['gravity'] = 6.67e-11 * COUPLER_options['mass'] / (COUPLER_options['radius']**2)\n",
    "COUPLER_options['hydrogen_earth_oceans'] = 20.0\n",
    "COUPLER_options['CH_ratio'] = 1.0\n",
    "COUPLER_options['fO2_shift_IW'] = -4.0\n",
    "COUPLER_options['nitrogen_ppmw'] = 2.0\n",
    "COUPLER_options['planet_coresize'] = 0.55\n",
    "\n",
    "solvevol_vols = ['H2O', 'CO2', 'N2', 'H2', 'CO', 'CH4']\n",
    "for v in solvevol_vols:\n",
    "    COUPLER_options[v+\"_included\"] = 0\n",
    "    COUPLER_options[v+\"_initial_bar\"] = 0.0\n",
    "\n",
    "COUPLER_options[\"H2O_included\"] = 1\n",
    "COUPLER_options[\"CO2_included\"] = 1\n",
    "COUPLER_options[\"N2_included\"]  = 1\n",
    "COUPLER_options[\"H2_included\"]  = 1\n",
    "COUPLER_options[\"CO_included\"]  = 1\n",
    "COUPLER_options[\"CH4_included\"] = 1\n",
    "\n",
    "# COUPLER_options[\"H2O_initial_bar\"] = 1.0\n",
    "# COUPLER_options[\"CO2_initial_bar\"] = 0.0\n",
    "# COUPLER_options[\"N2_initial_bar\"]  = 0.0\n",
    "\n",
    "print(\"Gravity = %.3f m.s-2\" % COUPLER_options[\"gravity\"])\n",
    "\n"
   ]
  },
  {
   "cell_type": "code",
   "execution_count": 3,
   "metadata": {},
   "outputs": [],
   "source": [
    "COUPLER_options[\"mantle_mass\"] = calc_mantle_mass(COUPLER_options)"
   ]
  },
  {
   "cell_type": "code",
   "execution_count": 4,
   "metadata": {},
   "outputs": [
    {
     "name": "stdout",
     "output_type": "stream",
     "text": [
      "Targets:\n",
      "{'H': 3.0999999999999995e+21, 'C': 3.0999999999999995e+21, 'N': 3.4050557736877863e+19}\n"
     ]
    }
   ],
   "source": [
    "solvevol_target = solvevol_get_target_from_params(COUPLER_options)\n",
    "# solvevol_target = solvevol_get_target_from_pressures(COUPLER_options)\n",
    "\n",
    "print(\"Targets:\")\n",
    "print(solvevol_target)"
   ]
  },
  {
   "cell_type": "code",
   "execution_count": 5,
   "metadata": {},
   "outputs": [
    {
     "name": "stdout",
     "output_type": "stream",
     "text": [
      "{'M_atm': 6.636804331673693e+21, 'P_surf': 237.4723930936772, 'H2O_atm_bar': 2.0085231577354685, 'H2O_atm_kg': 1.9907036948974784e+20, 'H2O_liquid_kg': 6.321700945703638e+19, 'H2O_solid_kg': 0.0, 'H2O_total_kg': 2.6228737894678423e+20, 'CO2_atm_bar': 0.010400476550053514, 'CO2_atm_kg': 2.518218269400503e+18, 'CO2_liquid_kg': 404531105134208.94, 'CO2_solid_kg': 0.0, 'CO2_total_kg': 2.518622800505637e+18, 'H2_atm_bar': 188.33355209350714, 'H2_atm_kg': 2.0887243820538415e+21, 'H2_liquid_kg': 0.0, 'H2_solid_kg': 0.0, 'H2_total_kg': 2.0887243820538415e+21, 'CH4_atm_bar': 44.259647358221294, 'CH4_atm_kg': 3.90571973319813e+21, 'CH4_liquid_kg': 5.21365144355274e+16, 'CH4_solid_kg': 0.0, 'CH4_total_kg': 3.9057718697125657e+21, 'CO_atm_bar': 2.642190357130186, 'CO_atm_kg': 4.071608147389149e+20, 'CO_liquid_kg': 3.5382319092794908e+16, 'CO_solid_kg': 0.0, 'CO_total_kg': 4.0719619705800766e+20, 'N2_atm_bar': 0.2180796505330692, 'N2_atm_kg': 3.361081392365819e+19, 'N2_liquid_kg': 4.39743814388839e+17, 'N2_solid_kg': 0.0, 'N2_total_kg': 3.405055773804703e+19, 'H2O_mr': 0.008457922757122989, 'CO2_mr': 4.379657110690241e-05, 'H2_mr': 0.793075564026569, 'CH4_mr': 0.18637807444321294, 'CO_mr': 0.011126305347366862, 'N2_mr': 0.0009183368546214211, 'H_atm_kg': 3.0929125944991846e+21, 'H_liquid_kg': 7.087405402265026e+18, 'H_solid_kg': 0.0, 'H_total_kg': 3.0999999999014496e+21, 'C_atm_kg': 3.0999456767403145e+21, 'C_liquid_kg': 5.432336336269417e+16, 'C_solid_kg': 0.0, 'C_total_kg': 3.1000000001036774e+21, 'N_atm_kg': 3.361081392365819e+19, 'N_liquid_kg': 4.39743814388839e+17, 'N_solid_kg': 0.0, 'N_total_kg': 3.405055773804703e+19, 'O_atm_kg': 4.111869277102802e+20, 'O_liquid_kg': 5.616223125643473e+19, 'O_solid_kg': 0.0, 'O_total_kg': 4.6734915896671496e+20, 'H_res': -3.179028744258065e-11, 'C_res': 3.34445006451613e-11, 'N_res': 3.433618753133535e-11}\n",
      "Partial pressures\n",
      "    H2O : 2.009 bar\n",
      "    CO2 : 0.010 bar\n",
      "    N2 : 0.218 bar\n",
      "    H2 : 188.334 bar\n",
      "    CO : 2.642 bar\n",
      "    CH4 : 44.260 bar\n",
      "mubar = 0.005079922917286483\n",
      " \n",
      "{'H2O': 1.9896944929621895e+20, 'CO2': 2.516941640057084e+18, 'N2': 3.359377467339441e+19, 'H2': 2.087665487807522e+21, 'CO': 4.0695440155785645e+20, 'CH4': 3.9037396997438586e+21}\n",
      "3.0913446196247475e+21 3.0983741363929114e+21 3.359377467339441e+19\n"
     ]
    },
    {
     "name": "stderr",
     "output_type": "stream",
     "text": [
      "/Users/nichollsh/Projects/PROTEUS/tools/../utils/surface_gases.py:176: RuntimeWarning: invalid value encountered in log10\n",
      "  ppmw = 10 ** (-0.738 + 0.876 * np.log10(p) - 5.44e-5 * p_total)\n",
      "/Users/nichollsh/Projects/PROTEUS/tools/../utils/surface_gases.py:149: RuntimeWarning: overflow encountered in exp\n",
      "  ppmw  = pb_N2**0.5 * np.exp(5908.0 * pb_tot**0.5/temp - 1.6*fO2_shift)\n",
      "/Users/nichollsh/Projects/PROTEUS/tools/../utils/surface_gases.py:149: RuntimeWarning: invalid value encountered in scalar power\n",
      "  ppmw  = pb_N2**0.5 * np.exp(5908.0 * pb_tot**0.5/temp - 1.6*fO2_shift)\n",
      "/Users/nichollsh/Projects/PROTEUS/tools/../utils/surface_gases.py:76: RuntimeWarning: invalid value encountered in scalar power\n",
      "  return const*p**exponent\n"
     ]
    }
   ],
   "source": [
    "p_d = solvevol_equilibrium_atmosphere(solvevol_target, COUPLER_options)\n",
    "\n",
    "print(p_d)\n",
    "\n",
    "p_bar = {}\n",
    "for v in volatile_species:\n",
    "    p_bar[v] = p_d[v+\"_atm_bar\"]\n",
    "\n",
    "mubar = 0.0\n",
    "ptot = 0.0\n",
    "print(\"Partial pressures\")\n",
    "for v in solvevol_vols:\n",
    "    print(\"    %s : %.3f bar\"%(v, p_bar[v]))\n",
    "    ptot += p_bar[v]\n",
    "    mubar += p_bar[v]*molar_mass[v]\n",
    "mubar /= ptot\n",
    "\n",
    "print(\"mubar =\",mubar)\n",
    "\n",
    "m_d = {}\n",
    "for v in solvevol_vols:\n",
    "    m_d[v] = p_bar[v]*1.0e5 * 4 * 3.14 * (molar_mass[v]/mubar) * COUPLER_options[\"radius\"]**2.0 / COUPLER_options[\"gravity\"]\n",
    "\n",
    "# print(solvevol_atmosphere_mass(p_bar, COUPLER_options))\n",
    "\n",
    "print(\" \")\n",
    "print(m_d)\n",
    "\n",
    "H_kg = (2*m_d[\"H2O\"]/molar_mass[\"H2O\"] + 2*m_d[\"H2\"]/molar_mass[\"H2\"] + 4*m_d[\"CH4\"]/molar_mass[\"CH4\"]) *molar_mass['H']\n",
    "C_kg = (m_d[\"CO2\"]/molar_mass[\"CO2\"] + m_d[\"CO\"]/molar_mass[\"CO\"] + m_d[\"CH4\"]/molar_mass[\"CH4\"]) * molar_mass['C']\n",
    "N_kg = m_d[\"N2\"]\n",
    "\n",
    "print(H_kg, C_kg, N_kg)\n"
   ]
  },
  {
   "cell_type": "code",
   "execution_count": 6,
   "metadata": {},
   "outputs": [
    {
     "name": "stdout",
     "output_type": "stream",
     "text": [
      "[H] atm = 20.0998\n",
      "C/H atm = 1.0023\n"
     ]
    }
   ],
   "source": [
    "H_mol = H_kg / (1.0e-3)\n",
    "H_oc  = H_mol / (7.69e22 * 2.0)\n",
    "\n",
    "\n",
    "print(\"[H] atm = %.4f\" % H_oc)\n",
    "print(\"C/H atm = %.4f\" % (C_kg/H_kg))"
   ]
  }
 ],
 "metadata": {
  "kernelspec": {
   "display_name": "proteus",
   "language": "python",
   "name": "python3"
  },
  "language_info": {
   "codemirror_mode": {
    "name": "ipython",
    "version": 3
   },
   "file_extension": ".py",
   "mimetype": "text/x-python",
   "name": "python",
   "nbconvert_exporter": "python",
   "pygments_lexer": "ipython3",
   "version": "3.12.2"
  }
 },
 "nbformat": 4,
 "nbformat_minor": 2
}
