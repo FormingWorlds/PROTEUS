{
 "cells": [
  {
   "cell_type": "code",
   "execution_count": 12,
   "metadata": {},
   "outputs": [],
   "source": [
    "import sys\n",
    "sys.path.append(\"..\") \n",
    "from utils.surface_gases import *"
   ]
  },
  {
   "cell_type": "code",
   "execution_count": 13,
   "metadata": {},
   "outputs": [],
   "source": [
    "COUPLER_options = {}\n",
    "\n",
    "COUPLER_options['Phi_global'] = 1.0\n",
    "COUPLER_options['T_outgas'] = 3400.0\n",
    "\n",
    "COUPLER_options['radius'] = 6.371e6\n",
    "COUPLER_options['mass']   = 5.972e24\n",
    "COUPLER_options['gravity'] = 6.67e-11 * COUPLER_options['mass'] / (COUPLER_options['radius']**2)\n",
    "COUPLER_options['hydrogen_earth_oceans'] = 10.0\n",
    "COUPLER_options['CH_ratio'] = 2.0\n",
    "COUPLER_options['fO2_shift_IW'] = 5.0\n",
    "COUPLER_options['nitrogen_ppmw'] = 2.0\n",
    "COUPLER_options['planet_coresize'] = 0.55\n",
    "\n",
    "solvevol_vols = ['H2O', 'CO2', 'N2', 'H2', 'CO', 'CH4']\n",
    "for v in solvevol_vols:\n",
    "    COUPLER_options[v+\"_included\"] = 0\n",
    "    COUPLER_options[v+\"_initial_bar\"] = 0.0\n",
    "\n",
    "COUPLER_options[\"H2O_included\"] = 1\n",
    "COUPLER_options[\"CO2_included\"] = 1\n",
    "COUPLER_options[\"N2_included\"]  = 1\n",
    "COUPLER_options[\"H2_included\"]  = 1\n",
    "COUPLER_options[\"CO_included\"]  = 1\n",
    "COUPLER_options[\"CH4_included\"] = 1\n",
    "\n",
    "# COUPLER_options[\"H2O_initial_bar\"] = 1.0\n",
    "# COUPLER_options[\"CO2_initial_bar\"] = 0.0\n",
    "# COUPLER_options[\"N2_initial_bar\"]  = 0.0\n",
    "\n"
   ]
  },
  {
   "cell_type": "code",
   "execution_count": 14,
   "metadata": {},
   "outputs": [],
   "source": [
    "COUPLER_options[\"mantle_mass\"] = calc_mantle_mass(COUPLER_options)"
   ]
  },
  {
   "cell_type": "code",
   "execution_count": 15,
   "metadata": {},
   "outputs": [
    {
     "name": "stdout",
     "output_type": "stream",
     "text": [
      "Targets:\n",
      "{'H': 1.5499999999999997e+21, 'C': 3.0999999999999995e+21, 'N': 8.061672162064889e+18}\n"
     ]
    }
   ],
   "source": [
    "solvevol_target = solvevol_get_target_from_params(COUPLER_options)\n",
    "# solvevol_target = solvevol_get_target_from_pressures(COUPLER_options)\n",
    "\n",
    "print(\"Targets:\")\n",
    "print(solvevol_target)"
   ]
  },
  {
   "cell_type": "code",
   "execution_count": 16,
   "metadata": {},
   "outputs": [
    {
     "name": "stdout",
     "output_type": "stream",
     "text": [
      "{'M_atm': 8.700977542121491e+21, 'P_surf': 1674.0691619527001, 'H2O_atm_bar': 42.41567847384332, 'H2O_atm_kg': 9.420653903841033e+19, 'H2O_liquid_kg': 1.3755919749008847e+22, 'H2O_solid_kg': 0.0, 'H2O_total_kg': 1.3850126288047256e+22, 'CO2_atm_bar': 1507.465213208285, 'CO2_atm_kg': 8.179227382856643e+21, 'CO2_liquid_kg': 2.4571717861595294e+21, 'CO2_solid_kg': 0.0, 'CO2_total_kg': 1.0636399169016173e+22, 'H2_atm_bar': 0.4085679530842879, 'H2_atm_kg': 1.0154126958426656e+17, 'H2_liquid_kg': 0.0, 'H2_solid_kg': 0.0, 'H2_total_kg': 1.0154126958426656e+17, 'CH4_atm_bar': 5.84751982412301e-11, 'CH4_atm_kg': 115635100.17823114, 'CH4_liquid_kg': 3261554.231381783, 'CH4_solid_kg': 0.0, 'CH4_total_kg': 118896654.40961292, 'CO_atm_bar': 121.55131885544102, 'CO_atm_kg': 4.197458378423871e+20, 'CO_liquid_kg': 4.0047485297325105e+19, 'CO_solid_kg': 0.0, 'CO_total_kg': 4.597933231397122e+20, 'N2_atm_bar': 2.2283834619881557, 'N2_atm_kg': 7.696241114350808e+18, 'N2_liquid_kg': 3.654310477089985e+17, 'N2_solid_kg': 0.0, 'N2_total_kg': 8.061672162059807e+18, 'H2O_mr': 0.025336873432617327, 'CO2_mr': 0.900479650105924, 'H2_mr': 0.00024405679428902337, 'CH4_mr': 3.492997754825274e-14, 'CO_mr': 0.07260830174642174, 'N2_mr': 0.001331117920712954, 'H_atm_kg': 1.064373054418961e+19, 'H_liquid_kg': 1.539356269455809e+21, 'H_solid_kg': 0.0, 'H_total_kg': 1.5499999999999984e+21, 'C_atm_kg': 2.412227548422138e+21, 'C_liquid_kg': 6.877724515778628e+20, 'C_solid_kg': 0.0, 'C_total_kg': 3.100000000000001e+21, 'N_atm_kg': 7.696241114350808e+18, 'N_liquid_kg': 3.654310477089985e+17, 'N_solid_kg': 0.0, 'N_total_kg': 8.061672162059807e+18, 'O_atm_kg': 6.270222714600227e+21, 'O_liquid_kg': 1.4025740667825957e+22, 'O_solid_kg': 0.0, 'O_total_kg': 2.0295963382426183e+22, 'H_res': -8.456258064516131e-16, 'C_res': 5.073754838709679e-16, 'N_res': -6.304042012418284e-13}\n",
      "Partial pressures\n",
      "    H2O : 42.416 bar\n",
      "    CO2 : 1507.465 bar\n",
      "    N2 : 2.228 bar\n",
      "    H2 : 0.409 bar\n",
      "    CO : 121.551 bar\n",
      "    CH4 : 0.000 bar\n",
      "mubar = 0.04215810072893403\n",
      " \n",
      "{'H2O': 9.41587803379276e+19, 'CO2': 8.17508086314851e+21, 'N2': 7.69233944809733e+18, 'H2': 1.0148979248798205e+17, 'CO': 4.195330445909526e+20, 'CH4': 115576478.11047369}\n",
      "1.0638334626408663e+19 2.411004651857238e+21 7.69233944809733e+18\n"
     ]
    },
    {
     "name": "stderr",
     "output_type": "stream",
     "text": [
      "/home/n/nichollsh/PROTEUS/tools/../utils/surface_gases.py:76: RuntimeWarning: invalid value encountered in scalar power\n",
      "  return const*p**exponent\n",
      "/home/n/nichollsh/PROTEUS/tools/../utils/surface_gases.py:149: RuntimeWarning: invalid value encountered in scalar power\n",
      "  ppmw  = pb_N2**0.5 * np.exp(5908.0 * pb_tot**0.5/temp - 1.6*fO2_shift)\n"
     ]
    }
   ],
   "source": [
    "p_d = solvevol_equilibrium_atmosphere(solvevol_target, COUPLER_options)\n",
    "\n",
    "print(p_d)\n",
    "\n",
    "p_bar = {}\n",
    "for v in volatile_species:\n",
    "    p_bar[v] = p_d[v+\"_atm_bar\"]\n",
    "\n",
    "mubar = 0.0\n",
    "ptot = 0.0\n",
    "print(\"Partial pressures\")\n",
    "for v in solvevol_vols:\n",
    "    print(\"    %s : %.3f bar\"%(v, p_bar[v]))\n",
    "    ptot += p_bar[v]\n",
    "    mubar += p_bar[v]*molar_mass[v]\n",
    "mubar /= ptot\n",
    "\n",
    "print(\"mubar =\",mubar)\n",
    "\n",
    "m_d = {}\n",
    "for v in solvevol_vols:\n",
    "    m_d[v] = p_bar[v]*1.0e5 * 4 * 3.14 * (molar_mass[v]/mubar) * COUPLER_options[\"radius\"]**2.0 / COUPLER_options[\"gravity\"]\n",
    "\n",
    "# print(solvevol_atmosphere_mass(p_bar, COUPLER_options))\n",
    "\n",
    "print(\" \")\n",
    "print(m_d)\n",
    "\n",
    "H_kg = (2*m_d[\"H2O\"]/molar_mass[\"H2O\"] + 2*m_d[\"H2\"]/molar_mass[\"H2\"] + 4*m_d[\"CH4\"]/molar_mass[\"CH4\"]) *molar_mass['H']\n",
    "C_kg = (m_d[\"CO2\"]/molar_mass[\"CO2\"] + m_d[\"CO\"]/molar_mass[\"CO\"] + m_d[\"CH4\"]/molar_mass[\"CH4\"]) * molar_mass['C']\n",
    "N_kg = m_d[\"N2\"]\n",
    "\n",
    "print(H_kg, C_kg, N_kg)\n"
   ]
  },
  {
   "cell_type": "code",
   "execution_count": 17,
   "metadata": {},
   "outputs": [
    {
     "name": "stdout",
     "output_type": "stream",
     "text": [
      "0.06916992604947114\n",
      "C/H = 226.6337\n"
     ]
    }
   ],
   "source": [
    "H_mol = H_kg / (1.0e-3)\n",
    "H_oc  = H_mol / (7.69e22 * 2.0)\n",
    "\n",
    "\n",
    "print(H_oc)\n",
    "print(\"C/H = %.4f\" % (C_kg/H_kg))"
   ]
  },
  {
   "cell_type": "code",
   "execution_count": null,
   "metadata": {},
   "outputs": [],
   "source": []
  },
  {
   "cell_type": "code",
   "execution_count": null,
   "metadata": {},
   "outputs": [],
   "source": []
  },
  {
   "cell_type": "code",
   "execution_count": null,
   "metadata": {},
   "outputs": [],
   "source": []
  }
 ],
 "metadata": {
  "kernelspec": {
   "display_name": "proteus",
   "language": "python",
   "name": "python3"
  },
  "language_info": {
   "codemirror_mode": {
    "name": "ipython",
    "version": 3
   },
   "file_extension": ".py",
   "mimetype": "text/x-python",
   "name": "python",
   "nbconvert_exporter": "python",
   "pygments_lexer": "ipython3",
   "version": "3.12.2"
  }
 },
 "nbformat": 4,
 "nbformat_minor": 2
}
