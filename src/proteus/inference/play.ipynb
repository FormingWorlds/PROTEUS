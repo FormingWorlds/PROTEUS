{
 "cells": [
  {
   "cell_type": "code",
   "execution_count": 1,
   "metadata": {},
   "outputs": [
    {
     "name": "stderr",
     "output_type": "stream",
     "text": [
      "/Users/benriegler/miniconda3/envs/proteus/lib/python3.12/site-packages/tqdm/auto.py:21: TqdmWarning: IProgress not found. Please update jupyter and ipywidgets. See https://ipywidgets.readthedocs.io/en/stable/user_install.html\n",
      "  from .autonotebook import tqdm as notebook_tqdm\n"
     ]
    }
   ],
   "source": [
    "import os\n",
    "from proteus.inference.inference import infer_from_config\n",
    "\n",
    "os.chdir(\"..\")\n",
    "os.chdir(\"..\")\n",
    "os.chdir(\"..\")"
   ]
  },
  {
   "cell_type": "code",
   "execution_count": 2,
   "metadata": {},
   "outputs": [
    {
     "name": "stdout",
     "output_type": "stream",
     "text": [
      "Source for initial guess: sampling parameter space\n",
      "    nsamp = 2\n",
      "Generated initial dataset with 2 points in 4-dim space\n",
      " \n",
      "Starting optimisation with 3 workers and 2 initial samples\n",
      "Performing 30 BO steps for a final total 32 samples\n",
      "Step    1, best objective = 0.82158\n",
      "available samples: 3\n",
      "Step    2, best objective = 0.85821\n",
      "available samples: 4\n",
      "Step    3, best objective = 0.85821\n",
      "available samples: 5\n",
      "Step    4, best objective = 0.94142\n",
      "available samples: 6\n",
      "Step    5, best objective = 0.94142\n",
      "available samples: 7\n",
      "Step    6, best objective = 0.94142\n",
      "available samples: 8\n",
      "Step    7, best objective = 0.96062\n",
      "available samples: 9\n",
      "Step    8, best objective = 0.96977\n",
      "available samples: 10\n",
      "Step    9, best objective = 0.96977\n",
      "available samples: 11\n",
      "Step   10, best objective = 0.99045\n",
      "available samples: 12\n",
      "Step   11, best objective = 0.99821\n",
      "available samples: 13\n",
      "Step   12, best objective = 0.99821\n",
      "available samples: 14\n",
      "Step   13, best objective = 0.99875\n",
      "available samples: 15\n",
      "Step   14, best objective = 0.99875\n",
      "available samples: 16\n",
      "Step   15, best objective = 0.99875\n",
      "available samples: 17\n",
      "Step   16, best objective = 0.99875\n",
      "available samples: 18\n",
      "Step   17, best objective = 0.99875\n",
      "available samples: 19\n",
      "Step   18, best objective = 0.99875\n",
      "available samples: 20\n",
      "Step   19, best objective = 0.99875\n",
      "available samples: 21\n",
      "Step   20, best objective = 0.99875\n",
      "available samples: 22\n",
      "Step   21, best objective = 0.99875\n",
      "available samples: 23\n",
      "Step   22, best objective = 0.99936\n",
      "available samples: 24\n",
      "Step   23, best objective = 0.99936\n",
      "available samples: 25\n",
      "Step   24, best objective = 0.99936\n",
      "available samples: 26\n",
      "Step   25, best objective = 0.99936\n",
      "available samples: 27\n",
      "Step   26, best objective = 0.99936\n",
      "available samples: 28\n",
      "Step   27, best objective = 0.99955\n",
      "available samples: 29\n",
      "Step   28, best objective = 0.99955\n",
      "Worker 002 exiting\n",
      "Step   29, best objective = 0.99955\n",
      "Worker 000 exiting\n",
      "Step   30, best objective = 0.99955\n",
      "Worker 001 exiting\n",
      "This took: 89.54 seconds\n",
      "-----------------------------------\n",
      " \n",
      "Best case sampled at step 27 has J=+0.9996\n",
      "With config at /Users/benriegler/Projects/PROTEUS/output/infer_demo/workers/w_1/i_8/init_coupler.toml\n",
      "Observables        | True        | Simulated   | Diff %\n",
      "R_obs                7.9950e+06    7.9072e+06    -1.099\n",
      "H2O_vmr              4.1000e-01    4.1665e-01    +1.623\n",
      "\n",
      "Parameters                   | Simulated val @ best J\n",
      "struct.mass_tot                1.5161825793079347  \n",
      "struct.corefrac                0.3                 \n",
      "delivery.elements.H_ppmw       6000.0              \n",
      "outgas.fO2_shift_IW            -0.22540227027732218\n",
      "-----------------------------------\n",
      " \n",
      "Ensemble statistics (N=30)\n",
      "Parameters                   | Median ± stddev\n",
      "struct.mass_tot                1.8787 ± 0.6966\n",
      "struct.corefrac                0.5377 ± 0.2268\n",
      "delivery.elements.H_ppmw       14693.9322 ± 5498.2992\n",
      "outgas.fO2_shift_IW            -0.2590 ± 0.9170\n",
      "-----------------------------------\n",
      " \n",
      "Saving results in /Users/benriegler/Projects/PROTEUS/output/infer_demo/\n",
      "Making plots\n",
      " \n",
      "Inference completed at 2025-09-03T14:13:16.217439+02:00\n"
     ]
    }
   ],
   "source": [
    "infer_from_config(\"input/ensembles/example.infer.toml\")"
   ]
  }
 ],
 "metadata": {
  "kernelspec": {
   "display_name": "proteus",
   "language": "python",
   "name": "python3"
  },
  "language_info": {
   "codemirror_mode": {
    "name": "ipython",
    "version": 3
   },
   "file_extension": ".py",
   "mimetype": "text/x-python",
   "name": "python",
   "nbconvert_exporter": "python",
   "pygments_lexer": "ipython3",
   "version": "3.12.11"
  }
 },
 "nbformat": 4,
 "nbformat_minor": 2
}
