{
 "cells": [
  {
   "cell_type": "code",
   "execution_count": 1,
   "metadata": {},
   "outputs": [
    {
     "name": "stderr",
     "output_type": "stream",
     "text": [
      "/Users/benriegler/miniconda3/envs/proteus/lib/python3.12/site-packages/tqdm/auto.py:21: TqdmWarning: IProgress not found. Please update jupyter and ipywidgets. See https://ipywidgets.readthedocs.io/en/stable/user_install.html\n",
      "  from .autonotebook import tqdm as notebook_tqdm\n"
     ]
    }
   ],
   "source": [
    "import os\n",
    "from proteus.inference.inference import infer_from_config\n",
    "\n",
    "os.chdir(\"..\")\n",
    "os.chdir(\"..\")\n",
    "os.chdir(\"..\")"
   ]
  },
  {
   "cell_type": "code",
   "execution_count": 2,
   "metadata": {},
   "outputs": [
    {
     "name": "stdout",
     "output_type": "stream",
     "text": [
      "Source for initial guess: sampling parameter space\n",
      "    nsamp = 2\n",
      "Generated initial dataset with 2 points in 4-dim space\n",
      " \n",
      "Starting optimisation with 7 workers and 2 initial samples\n",
      "Performing 30 BO steps for a final total 32 samples\n",
      "Step    1, best objective = 0.82158\n",
      "Step    2, best objective = 0.93605\n",
      "Step    3, best objective = 0.93605\n",
      "Step    4, best objective = 0.93605\n",
      "Step    5, best objective = 0.93605\n",
      "Step    6, best objective = 0.93605\n",
      "Step    7, best objective = 0.93605\n",
      "Step    8, best objective = 0.94144\n",
      "Step    9, best objective = 0.94144\n",
      "Step   10, best objective = 0.98731\n",
      "Step   11, best objective = 0.98731\n",
      "Step   12, best objective = 0.98731\n",
      "Step   13, best objective = 0.98731\n",
      "Step   14, best objective = 0.98731\n",
      "Step   15, best objective = 0.98731\n",
      "Step   16, best objective = 0.98731\n",
      "Step   17, best objective = 0.98731\n",
      "Step   18, best objective = 0.98731\n",
      "Step   19, best objective = 0.99892\n",
      "Step   20, best objective = 0.99892\n",
      "Step   21, best objective = 0.99892\n",
      "Step   22, best objective = 0.99892\n",
      "Step   23, best objective = 0.99892\n",
      "Step   24, best objective = 0.99892\n",
      "Worker 003 exiting\n",
      "Step   25, best objective = 0.99892\n",
      "Worker 004 exiting\n",
      "Step   26, best objective = 0.99892\n",
      "Worker 000 exiting\n",
      "Step   27, best objective = 0.99892\n",
      "Worker 001 exiting\n",
      "Step   28, best objective = 0.99892\n",
      "Worker 005 exiting\n",
      "Step   29, best objective = 0.99892\n",
      "Worker 006 exiting\n",
      "Step   30, best objective = 0.99892\n",
      "Worker 002 exiting\n",
      "This took: 67.93 seconds\n",
      "-----------------------------------\n",
      " \n",
      "Best case sampled at step 19 has J=+0.9989\n",
      "With config at /Users/benriegler/Projects/PROTEUS/output/infer_demo/workers/w_4/i_2/init_coupler.toml\n",
      "Observables        | True        | Simulated   | Diff %\n",
      "R_obs                7.9950e+06    8.0721e+06    +0.964\n",
      "H2O_vmr              4.1000e-01    4.2165e-01    +2.842\n",
      "\n",
      "Parameters                   | Simulated val @ best J\n",
      "struct.mass_tot                2.170025842949803   \n",
      "struct.corefrac                0.6450666071640665  \n",
      "delivery.elements.H_ppmw       20000.0             \n",
      "outgas.fO2_shift_IW            -0.20075383341788022\n",
      "-----------------------------------\n",
      " \n",
      "Ensemble statistics (N=30)\n",
      "Parameters                   | Median ± stddev\n",
      "struct.mass_tot                2.2203 ± 0.6313\n",
      "struct.corefrac                0.6586 ± 0.2225\n",
      "delivery.elements.H_ppmw       19925.7975 ± 5403.0012\n",
      "outgas.fO2_shift_IW            -0.2952 ± 1.3557\n",
      "-----------------------------------\n",
      " \n",
      "Saving results in /Users/benriegler/Projects/PROTEUS/output/infer_demo/\n",
      "Making plots\n",
      " \n",
      "Inference completed at 2025-09-04T13:42:01.752065+02:00\n"
     ]
    }
   ],
   "source": [
    "infer_from_config(\"input/ensembles/example.infer.toml\")"
   ]
  }
 ],
 "metadata": {
  "kernelspec": {
   "display_name": "proteus",
   "language": "python",
   "name": "python3"
  },
  "language_info": {
   "codemirror_mode": {
    "name": "ipython",
    "version": 3
   },
   "file_extension": ".py",
   "mimetype": "text/x-python",
   "name": "python",
   "nbconvert_exporter": "python",
   "pygments_lexer": "ipython3",
   "version": "3.12.11"
  }
 },
 "nbformat": 4,
 "nbformat_minor": 2
}
